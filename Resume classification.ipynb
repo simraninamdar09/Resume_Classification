{
 "cells": [
  {
   "cell_type": "markdown",
   "id": "d9f7972b",
   "metadata": {},
   "source": [
    "# Resume Classification\n",
    "\n",
    "    Business objective- \n",
    "     The document classification solution should significantly reduce the manual human effort in the HRM. It should achieve a higher level of accuracy and automation with minimal human intervention\n"
   ]
  },
  {
   "cell_type": "code",
   "execution_count": 1,
   "id": "cf124f63",
   "metadata": {},
   "outputs": [
    {
     "name": "stdout",
     "output_type": "stream",
     "text": [
      "Requirement already satisfied: pywin32 in c:\\users\\dell\\anaconda3\\lib\\site-packages (302)Note: you may need to restart the kernel to use updated packages.\n",
      "\n"
     ]
    }
   ],
   "source": [
    "pip install pywin32"
   ]
  },
  {
   "cell_type": "code",
   "execution_count": 2,
   "id": "a76bf359",
   "metadata": {},
   "outputs": [
    {
     "name": "stdout",
     "output_type": "stream",
     "text": [
      "Requirement already satisfied: antiword in c:\\users\\dell\\anaconda3\\lib\\site-packages (0.1.0)\n",
      "Note: you may need to restart the kernel to use updated packages.\n"
     ]
    }
   ],
   "source": [
    "pip install antiword"
   ]
  },
  {
   "cell_type": "code",
   "execution_count": 3,
   "id": "d2b7ffc7",
   "metadata": {},
   "outputs": [
    {
     "name": "stdout",
     "output_type": "stream",
     "text": [
      "Requirement already satisfied: python-docx in c:\\users\\dell\\anaconda3\\lib\\site-packages (0.8.11)\n",
      "Requirement already satisfied: lxml>=2.3.2 in c:\\users\\dell\\anaconda3\\lib\\site-packages (from python-docx) (4.9.2)\n"
     ]
    }
   ],
   "source": [
    "!pip install python-docx"
   ]
  },
  {
   "cell_type": "markdown",
   "id": "abfa7546",
   "metadata": {},
   "source": [
    "# Import the libraries"
   ]
  },
  {
   "cell_type": "code",
   "execution_count": 1,
   "id": "acb2357b",
   "metadata": {},
   "outputs": [],
   "source": [
    "import numpy as np\n",
    "import pandas as pd\n",
    "import matplotlib as plt\n",
    "import seaborn as sns\n",
    "##For Data Extraction\n",
    "import textract\n",
    "import docx\n",
    "import glob\n",
    "from docx import Document\n",
    "import docx2txt\n",
    "import comtypes.client \n",
    "from pdfminer.high_level import extract_text\n",
    "import os,re\n",
    "import docx2txt\n",
    "import textract\n",
    "import nltk\n",
    "\n",
    "# data transformation\n",
    "from sklearn.preprocessing import StandardScaler\n",
    "from sklearn.model_selection import KFold\n",
    "from sklearn.model_selection import train_test_split\n",
    "from sklearn.preprocessing import MinMaxScaler\n",
    "\n",
    "import lightgbm as lgb\n",
    "from sklearn.linear_model import LogisticRegression\n",
    "from sklearn.tree import  DecisionTreeClassifier\n",
    "from sklearn.ensemble import RandomForestClassifier\n",
    "from sklearn.ensemble import BaggingClassifier\n",
    "from sklearn.naive_bayes import MultinomialNB as mb\n",
    "from sklearn.naive_bayes import GaussianNB as gb\n",
    "from sklearn.ensemble import AdaBoostClassifier\n",
    "from sklearn.ensemble import GradientBoostingClassifier\n",
    "from numpy import loadtxt \n",
    "from xgboost import XGBClassifier\n",
    "from sklearn.svm import SVC\n",
    "from sklearn.neighbors import KNeighborsClassifier\n",
    "from sklearn.naive_bayes import GaussianNB\n",
    "from lightgbm import LGBMClassifier\n",
    "\n",
    "from sklearn.metrics import accuracy_score,precision_score,recall_score,f1_score\n",
    "import pickle\n",
    "\n",
    "from sklearn.model_selection import cross_val_score\n",
    "from sklearn.metrics import confusion_matrix\n",
    "from sklearn.metrics import roc_curve\n",
    "from sklearn.metrics import roc_auc_score\n",
    "from sklearn.tree import  DecisionTreeClassifier  \n",
    "from sklearn import tree #plot tree\n",
    "from sklearn.metrics import classification_report#,accuracy_score,r2_score\n",
    "from sklearn import preprocessing\n",
    "import warnings\n",
    "warnings.filterwarnings('ignore')"
   ]
  },
  {
   "cell_type": "code",
   "execution_count": 2,
   "id": "22aac140",
   "metadata": {},
   "outputs": [
    {
     "data": {
      "text/plain": [
       "['Internship_Ravali_Musquare Technologies (1).docx',\n",
       " 'Internship_Susovan Bag_Musquare Technologies.docx',\n",
       " 'Peoplesoft resumes',\n",
       " 'React Developer_Deepakreddy.docx',\n",
       " 'React Developer_Haripriya.docx',\n",
       " 'React Developer_Kamalakar Reddy.docx',\n",
       " 'React Developer_Naveen sadhu.docx',\n",
       " 'React Developer_PavasGoswami.doc',\n",
       " 'React Developer_PavasGoswami.docx',\n",
       " 'React Developer_Pragnya.docx',\n",
       " 'React Developer_Sarala Madasu-converted.docx',\n",
       " 'React Developer_Thirupathiamma.docx',\n",
       " 'React Developer_Vinay Reddy.doc',\n",
       " 'React Developer_Vinay Reddy.docx',\n",
       " 'React Dev_Krishna Kanth.docx',\n",
       " 'React Dev_Krishna Kanth_Musquare Technologies.docx',\n",
       " 'React JS Developer_AnjaniPriyadarshini.doc',\n",
       " 'React JS Developer_AnjaniPriyadarshini.docx',\n",
       " 'React JS Developer_KotaniDurgaprasad[3_1] (1)-converted.docx',\n",
       " 'React JS Developer_Venkatalakshmi (1)-converted.docx',\n",
       " 'Reactjs Developer_kambala sai surendra_Musquare Technologies.docx',\n",
       " 'Reactjs Developer_M Lokesh Babu_Musquare Technologies.docx',\n",
       " 'Reactjs Developer_M Lokesh.docx',\n",
       " 'Reactjs Developer_MD Khizaruddin Rauf _Musquare Technologies.docx',\n",
       " 'Reactjs Developer_Prabakaran_Musquare Technologies.pdf',\n",
       " 'Reactjs Developer_Pranish Sonone_Musquare Technologies.docx',\n",
       " 'Reactjs Developer_Ranga Gaganam_Musquare Technologies.docx',\n",
       " 'Reactjs Developer_Shaik Abdul Sharuk_Musquare Technologies.docx',\n",
       " 'SQL Developer Lightning insight',\n",
       " 'workday resumes']"
      ]
     },
     "execution_count": 2,
     "metadata": {},
     "output_type": "execute_result"
    }
   ],
   "source": [
    "os.listdir('E:\\Data Science\\Datascience Intership Project\\Project DS3\\Resumes')"
   ]
  },
  {
   "cell_type": "markdown",
   "id": "99910b20",
   "metadata": {},
   "source": [
    "# Data Extraction"
   ]
  },
  {
   "cell_type": "markdown",
   "id": "0df5927e",
   "metadata": {},
   "source": [
    "### Resumes"
   ]
  },
  {
   "cell_type": "code",
   "execution_count": 3,
   "id": "a720120d",
   "metadata": {},
   "outputs": [],
   "source": [
    "input_folder = \"E:\\Data Science\\Datascience Intership Project\\Project DS3\\Resumes\"   \n",
    "output_folder= \"E:\\Data Science\\Datascience Intership Project\\Project DS3\\Resumes\" "
   ]
  },
  {
   "cell_type": "code",
   "execution_count": 4,
   "id": "7c06029c",
   "metadata": {},
   "outputs": [
    {
     "data": {
      "text/plain": [
       "0"
      ]
     },
     "execution_count": 4,
     "metadata": {},
     "output_type": "execute_result"
    }
   ],
   "source": [
    "#code to extract text from .doc files\n",
    "word = comtypes.client.CreateObject('Word.Application')\n",
    "\n",
    "for file_name in os.listdir(input_folder):\n",
    "    if file_name.endswith('.doc'):\n",
    "        input_file = os.path.join(input_folder, file_name)\n",
    "        output_file = os.path.join(output_folder, os.path.splitext(file_name)[0] + '.docx')\n",
    "\n",
    "        doc = word.Documents.Open(input_file)\n",
    "        doc.SaveAs(output_file, FileFormat=16)\n",
    "        doc.Close()\n",
    "\n",
    "word.Quit()"
   ]
  },
  {
   "cell_type": "code",
   "execution_count": 5,
   "id": "84ae2229",
   "metadata": {},
   "outputs": [],
   "source": [
    "dir_Path = \"E:\\Data Science\\Datascience Intership Project\\Project DS3\\Resumes\" \n",
    "os.chdir(dir_Path)"
   ]
  },
  {
   "cell_type": "code",
   "execution_count": 6,
   "id": "16c4d396",
   "metadata": {},
   "outputs": [],
   "source": [
    "file_List = os.listdir()"
   ]
  },
  {
   "cell_type": "code",
   "execution_count": 7,
   "id": "5adec20f",
   "metadata": {},
   "outputs": [],
   "source": [
    "\n",
    "resumeTxt = []\n",
    "for filename in file_List:\n",
    "    if filename.endswith(\".pdf\"):\n",
    "        try:\n",
    "            text = extract_text(os.path.join(dir_Path, filename))\n",
    "            resumeTxt.append(text)\n",
    "        except Exception as e:\n",
    "            print(f\"Error reading PDF file '{filename}': {str(e)}\")\n",
    "   \n",
    "    elif filename.endswith(\".docx\"):\n",
    "        try:\n",
    "            doc = docx.Document(os.path.join(dir_Path, filename))\n",
    "            text = \"\\n\".join([para.text for para in doc.paragraphs])\n",
    "            resumeTxt.append(text)\n",
    "        except Exception as e:\n",
    "            print(f\"Error reading DOCX file '{filename}': {str(e)}\")\n",
    "   "
   ]
  },
  {
   "cell_type": "code",
   "execution_count": 8,
   "id": "5311123e",
   "metadata": {},
   "outputs": [
    {
     "data": {
      "text/html": [
       "<div>\n",
       "<style scoped>\n",
       "    .dataframe tbody tr th:only-of-type {\n",
       "        vertical-align: middle;\n",
       "    }\n",
       "\n",
       "    .dataframe tbody tr th {\n",
       "        vertical-align: top;\n",
       "    }\n",
       "\n",
       "    .dataframe thead th {\n",
       "        text-align: right;\n",
       "    }\n",
       "</style>\n",
       "<table border=\"1\" class=\"dataframe\">\n",
       "  <thead>\n",
       "    <tr style=\"text-align: right;\">\n",
       "      <th></th>\n",
       "      <th>Resumes</th>\n",
       "      <th>Category</th>\n",
       "    </tr>\n",
       "  </thead>\n",
       "  <tbody>\n",
       "    <tr>\n",
       "      <th>0</th>\n",
       "      <td>Name: Ravali P \\n\\n                           ...</td>\n",
       "      <td>React JS</td>\n",
       "    </tr>\n",
       "    <tr>\n",
       "      <th>1</th>\n",
       "      <td>\\nSUSOVAN  BAG   \\nSeeking  a  challenging  ...</td>\n",
       "      <td>React JS</td>\n",
       "    </tr>\n",
       "    <tr>\n",
       "      <th>2</th>\n",
       "      <td>Kanumuru Deepak Reddy\\n\\n\\n\\nCAREER OBJECTIVE:...</td>\n",
       "      <td>React JS</td>\n",
       "    </tr>\n",
       "    <tr>\n",
       "      <th>3</th>\n",
       "      <td>HARIPRIYA BATTINA \\nExperience as UI Developer...</td>\n",
       "      <td>React JS</td>\n",
       "    </tr>\n",
       "    <tr>\n",
       "      <th>4</th>\n",
       "      <td>KAMALAKAR REDDY. A \\nLinked In: https://www.li...</td>\n",
       "      <td>React JS</td>\n",
       "    </tr>\n",
       "    <tr>\n",
       "      <th>5</th>\n",
       "      <td>\\nNaveen Sadhu\\n\\n\\nTitle: software developer\\...</td>\n",
       "      <td>React JS</td>\n",
       "    </tr>\n",
       "    <tr>\n",
       "      <th>6</th>\n",
       "      <td>\\n\\n\\nPROFILE\\nSearching for the opportunity t...</td>\n",
       "      <td>React JS</td>\n",
       "    </tr>\n",
       "    <tr>\n",
       "      <th>7</th>\n",
       "      <td>\\nPRAGNYA PATTNAIK\\n \\n \\n \\n Expertise: \\n \\...</td>\n",
       "      <td>React JS</td>\n",
       "    </tr>\n",
       "    <tr>\n",
       "      <th>8</th>\n",
       "      <td>\\n\\n 204,Sri geethika prestige,road number 10...</td>\n",
       "      <td>React JS</td>\n",
       "    </tr>\n",
       "    <tr>\n",
       "      <th>9</th>\n",
       "      <td>\\n\\nThirupathamma Balla\\n\\nSUMMARY:\\n\\n2.8 yea...</td>\n",
       "      <td>React JS</td>\n",
       "    </tr>\n",
       "    <tr>\n",
       "      <th>10</th>\n",
       "      <td>Maryala Vinay Reddy\\n\\nProfessional Summary:\\t...</td>\n",
       "      <td>React JS</td>\n",
       "    </tr>\n",
       "    <tr>\n",
       "      <th>11</th>\n",
       "      <td>\\nUi-Developer/ React JS Developer \\nNAME: KRI...</td>\n",
       "      <td>React JS</td>\n",
       "    </tr>\n",
       "    <tr>\n",
       "      <th>12</th>\n",
       "      <td>\\nUi-Developer/ React JS Developer \\nNAME: KRI...</td>\n",
       "      <td>React JS</td>\n",
       "    </tr>\n",
       "    <tr>\n",
       "      <th>13</th>\n",
       "      <td>CURRICULUM VITAE\\n\\n\\n\\n\\nI hereby declare tha...</td>\n",
       "      <td>React JS</td>\n",
       "    </tr>\n",
       "    <tr>\n",
       "      <th>14</th>\n",
       "      <td>Kotani Durga Prasad\\n\\n\\nObjective:\\n\\nAspiran...</td>\n",
       "      <td>React JS</td>\n",
       "    </tr>\n",
       "    <tr>\n",
       "      <th>15</th>\n",
       "      <td>Venkatalakshmi Pedireddy\\nSoftware Developer\\n...</td>\n",
       "      <td>React JS</td>\n",
       "    </tr>\n",
       "    <tr>\n",
       "      <th>16</th>\n",
       "      <td>KAMBALA SAI SURENDRA   \\n \\n\\tMandepeta \\t \\n ...</td>\n",
       "      <td>React JS</td>\n",
       "    </tr>\n",
       "    <tr>\n",
       "      <th>17</th>\n",
       "      <td>MAREEDU LOKESH BABU\\nPROFESSIONAL OVERVIEW\\n  ...</td>\n",
       "      <td>React JS</td>\n",
       "    </tr>\n",
       "    <tr>\n",
       "      <th>18</th>\n",
       "      <td>MAREEDU LOKESH BABU\\n\\nPROFESSIONAL OVERVIEW\\n...</td>\n",
       "      <td>React JS</td>\n",
       "    </tr>\n",
       "    <tr>\n",
       "      <th>19</th>\n",
       "      <td>MD KHIZARUDDIN RAUF \\n \\t EXPERIENCE \\n     \\n...</td>\n",
       "      <td>React JS</td>\n",
       "    </tr>\n",
       "    <tr>\n",
       "      <th>20</th>\n",
       "      <td>\\n\\n \\n\\nName: M. Prabakaran \\nTitle: UI Deve...</td>\n",
       "      <td>React JS</td>\n",
       "    </tr>\n",
       "    <tr>\n",
       "      <th>21</th>\n",
       "      <td>\\nPranish Sonone\\n\\t\\n\\n\\n\\n\\nCareer summary:\\...</td>\n",
       "      <td>React JS</td>\n",
       "    </tr>\n",
       "    <tr>\n",
       "      <th>22</th>\n",
       "      <td>Ranga Gaganam  \\n \\n \\nHaving 1+ years of succ...</td>\n",
       "      <td>React JS</td>\n",
       "    </tr>\n",
       "    <tr>\n",
       "      <th>23</th>\n",
       "      <td>SHAIK ABDUL SHARUK   \\n2 years’ Experience in ...</td>\n",
       "      <td>React JS</td>\n",
       "    </tr>\n",
       "  </tbody>\n",
       "</table>\n",
       "</div>"
      ],
      "text/plain": [
       "                                              Resumes  Category\n",
       "0   Name: Ravali P \\n\\n                           ...  React JS\n",
       "1     \\nSUSOVAN  BAG   \\nSeeking  a  challenging  ...  React JS\n",
       "2   Kanumuru Deepak Reddy\\n\\n\\n\\nCAREER OBJECTIVE:...  React JS\n",
       "3   HARIPRIYA BATTINA \\nExperience as UI Developer...  React JS\n",
       "4   KAMALAKAR REDDY. A \\nLinked In: https://www.li...  React JS\n",
       "5   \\nNaveen Sadhu\\n\\n\\nTitle: software developer\\...  React JS\n",
       "6   \\n\\n\\nPROFILE\\nSearching for the opportunity t...  React JS\n",
       "7    \\nPRAGNYA PATTNAIK\\n \\n \\n \\n Expertise: \\n \\...  React JS\n",
       "8   \\n\\n 204,Sri geethika prestige,road number 10...  React JS\n",
       "9   \\n\\nThirupathamma Balla\\n\\nSUMMARY:\\n\\n2.8 yea...  React JS\n",
       "10  Maryala Vinay Reddy\\n\\nProfessional Summary:\\t...  React JS\n",
       "11  \\nUi-Developer/ React JS Developer \\nNAME: KRI...  React JS\n",
       "12  \\nUi-Developer/ React JS Developer \\nNAME: KRI...  React JS\n",
       "13  CURRICULUM VITAE\\n\\n\\n\\n\\nI hereby declare tha...  React JS\n",
       "14  Kotani Durga Prasad\\n\\n\\nObjective:\\n\\nAspiran...  React JS\n",
       "15  Venkatalakshmi Pedireddy\\nSoftware Developer\\n...  React JS\n",
       "16  KAMBALA SAI SURENDRA   \\n \\n\\tMandepeta \\t \\n ...  React JS\n",
       "17  MAREEDU LOKESH BABU\\nPROFESSIONAL OVERVIEW\\n  ...  React JS\n",
       "18  MAREEDU LOKESH BABU\\n\\nPROFESSIONAL OVERVIEW\\n...  React JS\n",
       "19  MD KHIZARUDDIN RAUF \\n \\t EXPERIENCE \\n     \\n...  React JS\n",
       "20   \\n\\n \\n\\nName: M. Prabakaran \\nTitle: UI Deve...  React JS\n",
       "21  \\nPranish Sonone\\n\\t\\n\\n\\n\\n\\nCareer summary:\\...  React JS\n",
       "22  Ranga Gaganam  \\n \\n \\nHaving 1+ years of succ...  React JS\n",
       "23  SHAIK ABDUL SHARUK   \\n2 years’ Experience in ...  React JS"
      ]
     },
     "execution_count": 8,
     "metadata": {},
     "output_type": "execute_result"
    }
   ],
   "source": [
    "data= pd.DataFrame(resumeTxt, columns=['Resumes'])\n",
    "data['Category']= 'React JS'\n",
    "data"
   ]
  },
  {
   "cell_type": "markdown",
   "id": "64337105",
   "metadata": {},
   "source": [
    "### Peoplesoft resumes"
   ]
  },
  {
   "cell_type": "code",
   "execution_count": 9,
   "id": "6ed383fd",
   "metadata": {},
   "outputs": [],
   "source": [
    "input_folder_1 = \"E:\\Data Science\\Datascience Intership Project\\Project DS3\\Resumes\\Peoplesoft resumes\"   \n",
    "output_folder_1= \"E:\\Data Science\\Datascience Intership Project\\Project DS3\\Resumes\\Peoplesoft resumes\" "
   ]
  },
  {
   "cell_type": "code",
   "execution_count": 10,
   "id": "ea8b0a3b",
   "metadata": {},
   "outputs": [
    {
     "data": {
      "text/plain": [
       "0"
      ]
     },
     "execution_count": 10,
     "metadata": {},
     "output_type": "execute_result"
    }
   ],
   "source": [
    "#code to extract text from .doc files\n",
    "word = comtypes.client.CreateObject('Word.Application')\n",
    "\n",
    "for file_name in os.listdir(input_folder_1):\n",
    "    if file_name.endswith('.doc'):\n",
    "        input_file = os.path.join(input_folder_1, file_name)\n",
    "        output_file = os.path.join(output_folder_1, os.path.splitext(file_name)[0] + '.docx')\n",
    "\n",
    "        doc = word.Documents.Open(input_file)\n",
    "        doc.SaveAs(output_file, FileFormat=16)\n",
    "        doc.Close()\n",
    "\n",
    "word.Quit()"
   ]
  },
  {
   "cell_type": "code",
   "execution_count": 11,
   "id": "59d57f4a",
   "metadata": {},
   "outputs": [],
   "source": [
    "dir_Path = \"E:\\Data Science\\Datascience Intership Project\\Project DS3\\Resumes\\Peoplesoft resumes\" \n",
    "os.chdir(dir_Path)"
   ]
  },
  {
   "cell_type": "code",
   "execution_count": 12,
   "id": "efd4940c",
   "metadata": {},
   "outputs": [],
   "source": [
    " file_List = os.listdir()"
   ]
  },
  {
   "cell_type": "code",
   "execution_count": 13,
   "id": "d0333cbe",
   "metadata": {},
   "outputs": [],
   "source": [
    "resumeTxt = []\n",
    "for filename in file_List:\n",
    "    if filename.endswith(\".pdf\"):\n",
    "        try:\n",
    "            text = extract_text(os.path.join(dir_Path, filename))\n",
    "            resumeTxt.append(text)\n",
    "        except Exception as e:\n",
    "            print(f\"Error reading PDF file '{filename}': {str(e)}\")\n",
    "   \n",
    "    elif filename.endswith(\".docx\"):\n",
    "        try:\n",
    "            doc = docx.Document(os.path.join(dir_Path, filename))\n",
    "            text = \"\\n\".join([para.text for para in doc.paragraphs])\n",
    "            resumeTxt.append(text)\n",
    "        except Exception as e:\n",
    "            print(f\"Error reading DOCX file '{filename}': {str(e)}\")\n",
    "   "
   ]
  },
  {
   "cell_type": "code",
   "execution_count": 14,
   "id": "927b75d7",
   "metadata": {},
   "outputs": [
    {
     "data": {
      "text/html": [
       "<div>\n",
       "<style scoped>\n",
       "    .dataframe tbody tr th:only-of-type {\n",
       "        vertical-align: middle;\n",
       "    }\n",
       "\n",
       "    .dataframe tbody tr th {\n",
       "        vertical-align: top;\n",
       "    }\n",
       "\n",
       "    .dataframe thead th {\n",
       "        text-align: right;\n",
       "    }\n",
       "</style>\n",
       "<table border=\"1\" class=\"dataframe\">\n",
       "  <thead>\n",
       "    <tr style=\"text-align: right;\">\n",
       "      <th></th>\n",
       "      <th>Resumes</th>\n",
       "      <th>Category</th>\n",
       "    </tr>\n",
       "  </thead>\n",
       "  <tbody>\n",
       "    <tr>\n",
       "      <th>0</th>\n",
       "      <td>Anubhav Kumar Singh\\t\\t\\n\\n  To work in a gl...</td>\n",
       "      <td>Peoplesoft</td>\n",
       "    </tr>\n",
       "    <tr>\n",
       "      <th>1</th>\n",
       "      <td>\\n\\n\\n\\n\\n\\n\\t\\n\\nProfile Summary:\\t\\t\\t\\t\\t\\t...</td>\n",
       "      <td>Peoplesoft</td>\n",
       "    </tr>\n",
       "    <tr>\n",
       "      <th>2</th>\n",
       "      <td>PeopleSoft Database Administrator\\n           ...</td>\n",
       "      <td>Peoplesoft</td>\n",
       "    </tr>\n",
       "    <tr>\n",
       "      <th>3</th>\n",
       "      <td>Murali\\n\\nExperience Summary \\n\\nI have 6 year...</td>\n",
       "      <td>Peoplesoft</td>\n",
       "    </tr>\n",
       "    <tr>\n",
       "      <th>4</th>\n",
       "      <td>Priyanka Ramadoss\\n61/46, MountPleasant, \\nCoo...</td>\n",
       "      <td>Peoplesoft</td>\n",
       "    </tr>\n",
       "    <tr>\n",
       "      <th>5</th>\n",
       "      <td>\\n\\n\\n\\n\\n\\n\\n\\n\\n\\n\\n\\n\\n\\nPROFILE SUMMARY\\n\\...</td>\n",
       "      <td>Peoplesoft</td>\n",
       "    </tr>\n",
       "    <tr>\n",
       "      <th>6</th>\n",
       "      <td>PEOPLESOFT Administrator\\n\\n\\nSRINIVAS.K \\t\\t\\...</td>\n",
       "      <td>Peoplesoft</td>\n",
       "    </tr>\n",
       "    <tr>\n",
       "      <th>7</th>\n",
       "      <td>PeopleSoft Admin\\nVARKALA VIKAS\\n\\nCareer Obj...</td>\n",
       "      <td>Peoplesoft</td>\n",
       "    </tr>\n",
       "    <tr>\n",
       "      <th>8</th>\n",
       "      <td>Vinod Akkala                                  ...</td>\n",
       "      <td>Peoplesoft</td>\n",
       "    </tr>\n",
       "    <tr>\n",
       "      <th>9</th>\n",
       "      <td>PeopleSoft Admin/PeopleSoft DBA\\n\\nGanesh All...</td>\n",
       "      <td>Peoplesoft</td>\n",
       "    </tr>\n",
       "    <tr>\n",
       "      <th>10</th>\n",
       "      <td>PeopleSoft Administration\\n \\nVivekanand Sayan...</td>\n",
       "      <td>Peoplesoft</td>\n",
       "    </tr>\n",
       "    <tr>\n",
       "      <th>11</th>\n",
       "      <td>Arun Venu\\n\\n  EXPERIENCE SUMMARY\\t\\n\\nExperie...</td>\n",
       "      <td>Peoplesoft</td>\n",
       "    </tr>\n",
       "    <tr>\n",
       "      <th>12</th>\n",
       "      <td>\\n\\n\\n\\n\\nExperience Summary\\n4.1 years- Exper...</td>\n",
       "      <td>Peoplesoft</td>\n",
       "    </tr>\n",
       "    <tr>\n",
       "      <th>13</th>\n",
       "      <td>Rahul Ahuja\\n---------------------------------...</td>\n",
       "      <td>Peoplesoft</td>\n",
       "    </tr>\n",
       "    <tr>\n",
       "      <th>14</th>\n",
       "      <td>\\nHaving 4.6 years of experience in PeopleSoft...</td>\n",
       "      <td>Peoplesoft</td>\n",
       "    </tr>\n",
       "    <tr>\n",
       "      <th>15</th>\n",
       "      <td>\\nHaving 4.6 years of experience in PeopleSoft...</td>\n",
       "      <td>Peoplesoft</td>\n",
       "    </tr>\n",
       "    <tr>\n",
       "      <th>16</th>\n",
       "      <td>\\n\\nCAREER OBJECTIVE\\t\\t\\n\\nPursuing Peopleso...</td>\n",
       "      <td>Peoplesoft</td>\n",
       "    </tr>\n",
       "    <tr>\n",
       "      <th>17</th>\n",
       "      <td>\\nR Ahmed                                     ...</td>\n",
       "      <td>Peoplesoft</td>\n",
       "    </tr>\n",
       "    <tr>\n",
       "      <th>18</th>\n",
       "      <td>Tanna Sujatha \\n\\n\\n\\nOBJECTIVE\\nSeeking a cha...</td>\n",
       "      <td>Peoplesoft</td>\n",
       "    </tr>\n",
       "    <tr>\n",
       "      <th>19</th>\n",
       "      <td>\\n\\n\\n\\n\\n\\n\\n\\n\\n\\n\\n\\n\\n\\n\\n\\n\\n\\n\\n\\nC O N ...</td>\n",
       "      <td>Peoplesoft</td>\n",
       "    </tr>\n",
       "  </tbody>\n",
       "</table>\n",
       "</div>"
      ],
      "text/plain": [
       "                                              Resumes     Category\n",
       "0     Anubhav Kumar Singh\\t\\t\\n\\n  To work in a gl...  Peoplesoft \n",
       "1   \\n\\n\\n\\n\\n\\n\\t\\n\\nProfile Summary:\\t\\t\\t\\t\\t\\t...  Peoplesoft \n",
       "2   PeopleSoft Database Administrator\\n           ...  Peoplesoft \n",
       "3   Murali\\n\\nExperience Summary \\n\\nI have 6 year...  Peoplesoft \n",
       "4   Priyanka Ramadoss\\n61/46, MountPleasant, \\nCoo...  Peoplesoft \n",
       "5   \\n\\n\\n\\n\\n\\n\\n\\n\\n\\n\\n\\n\\n\\nPROFILE SUMMARY\\n\\...  Peoplesoft \n",
       "6   PEOPLESOFT Administrator\\n\\n\\nSRINIVAS.K \\t\\t\\...  Peoplesoft \n",
       "7    PeopleSoft Admin\\nVARKALA VIKAS\\n\\nCareer Obj...  Peoplesoft \n",
       "8   Vinod Akkala                                  ...  Peoplesoft \n",
       "9    PeopleSoft Admin/PeopleSoft DBA\\n\\nGanesh All...  Peoplesoft \n",
       "10  PeopleSoft Administration\\n \\nVivekanand Sayan...  Peoplesoft \n",
       "11  Arun Venu\\n\\n  EXPERIENCE SUMMARY\\t\\n\\nExperie...  Peoplesoft \n",
       "12  \\n\\n\\n\\n\\nExperience Summary\\n4.1 years- Exper...  Peoplesoft \n",
       "13  Rahul Ahuja\\n---------------------------------...  Peoplesoft \n",
       "14  \\nHaving 4.6 years of experience in PeopleSoft...  Peoplesoft \n",
       "15  \\nHaving 4.6 years of experience in PeopleSoft...  Peoplesoft \n",
       "16   \\n\\nCAREER OBJECTIVE\\t\\t\\n\\nPursuing Peopleso...  Peoplesoft \n",
       "17  \\nR Ahmed                                     ...  Peoplesoft \n",
       "18  Tanna Sujatha \\n\\n\\n\\nOBJECTIVE\\nSeeking a cha...  Peoplesoft \n",
       "19  \\n\\n\\n\\n\\n\\n\\n\\n\\n\\n\\n\\n\\n\\n\\n\\n\\n\\n\\n\\nC O N ...  Peoplesoft "
      ]
     },
     "execution_count": 14,
     "metadata": {},
     "output_type": "execute_result"
    }
   ],
   "source": [
    "data1 = pd.DataFrame(resumeTxt, columns=['Resumes'])\n",
    "data1['Category']='Peoplesoft '\n",
    "data1"
   ]
  },
  {
   "cell_type": "markdown",
   "id": "bb830825",
   "metadata": {},
   "source": [
    "### SQL Developer Lightning insight"
   ]
  },
  {
   "cell_type": "code",
   "execution_count": 15,
   "id": "022ebd4e",
   "metadata": {},
   "outputs": [],
   "source": [
    "input_folder_2 = \"E:\\Data Science\\Datascience Intership Project\\Project DS3\\Resumes\\SQL Developer Lightning insight\"   \n",
    "output_folder_2= \"E:\\Data Science\\Datascience Intership Project\\Project DS3\\Resumes\\SQL Developer Lightning insight\""
   ]
  },
  {
   "cell_type": "code",
   "execution_count": 16,
   "id": "ac95b640",
   "metadata": {},
   "outputs": [
    {
     "data": {
      "text/plain": [
       "0"
      ]
     },
     "execution_count": 16,
     "metadata": {},
     "output_type": "execute_result"
    }
   ],
   "source": [
    "#code to extract text from .doc files\n",
    "word = comtypes.client.CreateObject('Word.Application')\n",
    "\n",
    "for file_name in os.listdir(input_folder_2):\n",
    "    if file_name.endswith('.doc'):\n",
    "        input_file = os.path.join(input_folder_2, file_name)\n",
    "        output_file = os.path.join(output_folder_2, os.path.splitext(file_name)[0] + '.docx')\n",
    "\n",
    "        doc = word.Documents.Open(input_file)\n",
    "        doc.SaveAs(output_file, FileFormat=16)\n",
    "        doc.Close()\n",
    "\n",
    "word.Quit()"
   ]
  },
  {
   "cell_type": "code",
   "execution_count": 17,
   "id": "a2eb0b98",
   "metadata": {},
   "outputs": [],
   "source": [
    "dir_Path = \"E:\\Data Science\\Datascience Intership Project\\Project DS3\\Resumes\\SQL Developer Lightning insight\" \n",
    "os.chdir(dir_Path)"
   ]
  },
  {
   "cell_type": "code",
   "execution_count": 18,
   "id": "24e42851",
   "metadata": {},
   "outputs": [],
   "source": [
    " file_List = os.listdir()"
   ]
  },
  {
   "cell_type": "code",
   "execution_count": 19,
   "id": "a80d922f",
   "metadata": {},
   "outputs": [],
   "source": [
    "resumeTxt = []\n",
    "for filename in file_List:\n",
    "    if filename.endswith(\".pdf\"):\n",
    "        try:\n",
    "            text = extract_text(os.path.join(dir_Path, filename))\n",
    "            resumeTxt.append(text)\n",
    "        except Exception as e:\n",
    "            print(f\"Error reading PDF file '{filename}': {str(e)}\")\n",
    "   \n",
    "    elif filename.endswith(\".docx\"):\n",
    "        try:\n",
    "            doc = docx.Document(os.path.join(dir_Path, filename))\n",
    "            text = \"\\n\".join([para.text for para in doc.paragraphs])\n",
    "            resumeTxt.append(text)\n",
    "        except Exception as e:\n",
    "            print(f\"Error reading DOCX file '{filename}': {str(e)}\")"
   ]
  },
  {
   "cell_type": "code",
   "execution_count": 20,
   "id": "03311ed7",
   "metadata": {},
   "outputs": [
    {
     "data": {
      "text/html": [
       "<div>\n",
       "<style scoped>\n",
       "    .dataframe tbody tr th:only-of-type {\n",
       "        vertical-align: middle;\n",
       "    }\n",
       "\n",
       "    .dataframe tbody tr th {\n",
       "        vertical-align: top;\n",
       "    }\n",
       "\n",
       "    .dataframe thead th {\n",
       "        text-align: right;\n",
       "    }\n",
       "</style>\n",
       "<table border=\"1\" class=\"dataframe\">\n",
       "  <thead>\n",
       "    <tr style=\"text-align: right;\">\n",
       "      <th></th>\n",
       "      <th>Resumes</th>\n",
       "      <th>Category</th>\n",
       "    </tr>\n",
       "  </thead>\n",
       "  <tbody>\n",
       "    <tr>\n",
       "      <th>0</th>\n",
       "      <td>ANIL KUMAR MADDUKURI  \\t\\t\\nSQL &amp; MSBI Develop...</td>\n",
       "      <td>SQL Developer</td>\n",
       "    </tr>\n",
       "    <tr>\n",
       "      <th>1</th>\n",
       "      <td>\\nAradhana Tripathi\\n\\nCurrent Location: Gachi...</td>\n",
       "      <td>SQL Developer</td>\n",
       "    </tr>\n",
       "    <tr>\n",
       "      <th>2</th>\n",
       "      <td>BUDDHA VAMSI                                  ...</td>\n",
       "      <td>SQL Developer</td>\n",
       "    </tr>\n",
       "    <tr>\n",
       "      <th>3</th>\n",
       "      <td>KAMBALLA PRADEEP                              ...</td>\n",
       "      <td>SQL Developer</td>\n",
       "    </tr>\n",
       "    <tr>\n",
       "      <th>4</th>\n",
       "      <td>\\n\\n\\n Hyderabad\\n\\nNazeer Basha\\nSQL and Pow...</td>\n",
       "      <td>SQL Developer</td>\n",
       "    </tr>\n",
       "    <tr>\n",
       "      <th>5</th>\n",
       "      <td>\\n                                        Res...</td>\n",
       "      <td>SQL Developer</td>\n",
       "    </tr>\n",
       "    <tr>\n",
       "      <th>6</th>\n",
       "      <td>SQL DEVELOPER\\nName: -   Bandi prem sai\\n\\n\\nW...</td>\n",
       "      <td>SQL Developer</td>\n",
       "    </tr>\n",
       "    <tr>\n",
       "      <th>7</th>\n",
       "      <td>SQL SER...</td>\n",
       "      <td>SQL Developer</td>\n",
       "    </tr>\n",
       "    <tr>\n",
       "      <th>8</th>\n",
       "      <td>SQL SER...</td>\n",
       "      <td>SQL Developer</td>\n",
       "    </tr>\n",
       "    <tr>\n",
       "      <th>9</th>\n",
       "      <td>RAJU PAVANA KUMARI\\n\\n\\nProfessional Summary:...</td>\n",
       "      <td>SQL Developer</td>\n",
       "    </tr>\n",
       "    <tr>\n",
       "      <th>10</th>\n",
       "      <td>resume\\n\\n...</td>\n",
       "      <td>SQL Developer</td>\n",
       "    </tr>\n",
       "    <tr>\n",
       "      <th>11</th>\n",
       "      <td>Name: Ramesh\\n\\nCareer Objective: \\n          ...</td>\n",
       "      <td>SQL Developer</td>\n",
       "    </tr>\n",
       "    <tr>\n",
       "      <th>12</th>\n",
       "      <td>Career objective\\n\\t\\nA rewarding opportunity ...</td>\n",
       "      <td>SQL Developer</td>\n",
       "    </tr>\n",
       "    <tr>\n",
       "      <th>13</th>\n",
       "      <td>B. vinod kumar\\n\\nOBJECTIVE:\\nWilling to work ...</td>\n",
       "      <td>SQL Developer</td>\n",
       "    </tr>\n",
       "  </tbody>\n",
       "</table>\n",
       "</div>"
      ],
      "text/plain": [
       "                                              Resumes       Category\n",
       "0   ANIL KUMAR MADDUKURI  \\t\\t\\nSQL & MSBI Develop...  SQL Developer\n",
       "1   \\nAradhana Tripathi\\n\\nCurrent Location: Gachi...  SQL Developer\n",
       "2   BUDDHA VAMSI                                  ...  SQL Developer\n",
       "3   KAMBALLA PRADEEP                              ...  SQL Developer\n",
       "4   \\n\\n\\n Hyderabad\\n\\nNazeer Basha\\nSQL and Pow...  SQL Developer\n",
       "5    \\n                                        Res...  SQL Developer\n",
       "6   SQL DEVELOPER\\nName: -   Bandi prem sai\\n\\n\\nW...  SQL Developer\n",
       "7                                          SQL SER...  SQL Developer\n",
       "8                                          SQL SER...  SQL Developer\n",
       "9    RAJU PAVANA KUMARI\\n\\n\\nProfessional Summary:...  SQL Developer\n",
       "10                                      resume\\n\\n...  SQL Developer\n",
       "11  Name: Ramesh\\n\\nCareer Objective: \\n          ...  SQL Developer\n",
       "12  Career objective\\n\\t\\nA rewarding opportunity ...  SQL Developer\n",
       "13  B. vinod kumar\\n\\nOBJECTIVE:\\nWilling to work ...  SQL Developer"
      ]
     },
     "execution_count": 20,
     "metadata": {},
     "output_type": "execute_result"
    }
   ],
   "source": [
    "data2 = pd.DataFrame(resumeTxt, columns=['Resumes'])\n",
    "data2['Category']='SQL Developer'\n",
    "data2"
   ]
  },
  {
   "cell_type": "markdown",
   "id": "53802dde",
   "metadata": {},
   "source": [
    "### workday resumes"
   ]
  },
  {
   "cell_type": "code",
   "execution_count": 21,
   "id": "0bd3286d",
   "metadata": {},
   "outputs": [],
   "source": [
    "input_folder_3 = \"E:\\Data Science\\Datascience Intership Project\\Project DS3\\Resumes\\workday resumes\"   \n",
    "output_folder_3= \"E:\\Data Science\\Datascience Intership Project\\Project DS3\\Resumes\\workday resumes\""
   ]
  },
  {
   "cell_type": "code",
   "execution_count": 22,
   "id": "ca13462e",
   "metadata": {},
   "outputs": [
    {
     "data": {
      "text/plain": [
       "0"
      ]
     },
     "execution_count": 22,
     "metadata": {},
     "output_type": "execute_result"
    }
   ],
   "source": [
    "#code to extract text from .doc files\n",
    "word = comtypes.client.CreateObject('Word.Application')\n",
    "\n",
    "for file_name in os.listdir(input_folder_3):\n",
    "    if file_name.endswith('.doc'):\n",
    "        input_file = os.path.join(input_folder_3, file_name)\n",
    "        output_file = os.path.join(output_folder_3, os.path.splitext(file_name)[0] + '.docx')\n",
    "\n",
    "        doc = word.Documents.Open(input_file)\n",
    "        doc.SaveAs(output_file, FileFormat=16)\n",
    "        doc.Close()\n",
    "\n",
    "word.Quit()"
   ]
  },
  {
   "cell_type": "code",
   "execution_count": 23,
   "id": "e651190b",
   "metadata": {},
   "outputs": [],
   "source": [
    "dir_Path = \"E:\\Data Science\\Datascience Intership Project\\Project DS3\\Resumes\\workday resumes\" \n",
    "os.chdir(dir_Path)"
   ]
  },
  {
   "cell_type": "code",
   "execution_count": 24,
   "id": "8e0dfda3",
   "metadata": {},
   "outputs": [],
   "source": [
    " file_List = os.listdir()"
   ]
  },
  {
   "cell_type": "code",
   "execution_count": 25,
   "id": "4b34097f",
   "metadata": {},
   "outputs": [],
   "source": [
    "resumeTxt = []\n",
    "for filename in file_List:\n",
    "    if filename.endswith(\".pdf\"):\n",
    "        try:\n",
    "            text = extract_text(os.path.join(dir_Path, filename))\n",
    "            resumeTxt.append(text)\n",
    "        except Exception as e:\n",
    "            print(f\"Error reading PDF file '{filename}': {str(e)}\")\n",
    "   \n",
    "    elif filename.endswith(\".docx\"):\n",
    "        try:\n",
    "            doc = docx.Document(os.path.join(dir_Path, filename))\n",
    "            text = \"\\n\".join([para.text for para in doc.paragraphs])\n",
    "            resumeTxt.append(text)\n",
    "        except Exception as e:\n",
    "            print(f\"Error reading DOCX file '{filename}': {str(e)}\")"
   ]
  },
  {
   "cell_type": "code",
   "execution_count": 26,
   "id": "30897e02",
   "metadata": {},
   "outputs": [
    {
     "data": {
      "text/html": [
       "<div>\n",
       "<style scoped>\n",
       "    .dataframe tbody tr th:only-of-type {\n",
       "        vertical-align: middle;\n",
       "    }\n",
       "\n",
       "    .dataframe tbody tr th {\n",
       "        vertical-align: top;\n",
       "    }\n",
       "\n",
       "    .dataframe thead th {\n",
       "        text-align: right;\n",
       "    }\n",
       "</style>\n",
       "<table border=\"1\" class=\"dataframe\">\n",
       "  <thead>\n",
       "    <tr style=\"text-align: right;\">\n",
       "      <th></th>\n",
       "      <th>Resumes</th>\n",
       "      <th>Category</th>\n",
       "    </tr>\n",
       "  </thead>\n",
       "  <tbody>\n",
       "    <tr>\n",
       "      <th>0</th>\n",
       "      <td>Chinna Subbarayudu M\\nDOB: 06th March 1994\\nNa...</td>\n",
       "      <td>workday resumes</td>\n",
       "    </tr>\n",
       "    <tr>\n",
       "      <th>1</th>\n",
       "      <td>\\t\\n\\n\\nName         : Gopi Krishna Reddy\\n\\t\\...</td>\n",
       "      <td>workday resumes</td>\n",
       "    </tr>\n",
       "    <tr>\n",
       "      <th>2</th>\n",
       "      <td>Hari Krishna M\\n\\n\\nSummary:\\nA result oriente...</td>\n",
       "      <td>workday resumes</td>\n",
       "    </tr>\n",
       "    <tr>\n",
       "      <th>3</th>\n",
       "      <td>Harikrishna Akula                             ...</td>\n",
       "      <td>workday resumes</td>\n",
       "    </tr>\n",
       "    <tr>\n",
       "      <th>4</th>\n",
       "      <td>HIMA.MENDU\\n  \\n\\nCareer Objective\\nTo continu...</td>\n",
       "      <td>workday resumes</td>\n",
       "    </tr>\n",
       "    <tr>\n",
       "      <th>5</th>\n",
       "      <td>\\n      ...</td>\n",
       "      <td>workday resumes</td>\n",
       "    </tr>\n",
       "    <tr>\n",
       "      <th>6</th>\n",
       "      <td>\\t\\t\\t\\t\\t\\t\\tName:\\tJ. Sumanth Royal.\\n\\t\\nPR...</td>\n",
       "      <td>workday resumes</td>\n",
       "    </tr>\n",
       "    <tr>\n",
       "      <th>7</th>\n",
       "      <td>\\n\\nJYOTI VERMA\\t\\t\\t\\t\\t\\n\\n\\n\\n3 years of Ex...</td>\n",
       "      <td>workday resumes</td>\n",
       "    </tr>\n",
       "    <tr>\n",
       "      <th>8</th>\n",
       "      <td>\\t\\t\\t\\t\\tMadeeswar A\\n\\t\\n\\t\\nPROFILE SUMMARY...</td>\n",
       "      <td>workday resumes</td>\n",
       "    </tr>\n",
       "    <tr>\n",
       "      <th>9</th>\n",
       "      <td>\\n\\nMooraboyina Guravaiah\\nWorkday Integration...</td>\n",
       "      <td>workday resumes</td>\n",
       "    </tr>\n",
       "    <tr>\n",
       "      <th>10</th>\n",
       "      <td>Name\\t: Naresh Babu Cherukuri\\n\\nObjective:\\nT...</td>\n",
       "      <td>workday resumes</td>\n",
       "    </tr>\n",
       "    <tr>\n",
       "      <th>11</th>\n",
       "      <td>VENKATA SAIKRISHNA\\n Workday Consultant\\n\\n\\nP...</td>\n",
       "      <td>workday resumes</td>\n",
       "    </tr>\n",
       "    <tr>\n",
       "      <th>12</th>\n",
       "      <td>\\n\\n\\n3.3 years of IT experience as Workday HC...</td>\n",
       "      <td>workday resumes</td>\n",
       "    </tr>\n",
       "    <tr>\n",
       "      <th>13</th>\n",
       "      <td>Rahul  (Techno Functional Consultant)  \\nProfe...</td>\n",
       "      <td>workday resumes</td>\n",
       "    </tr>\n",
       "    <tr>\n",
       "      <th>14</th>\n",
       "      <td>Ramesh A\\t\\t\\t\\t\\t\\t\\t\\t\\t\\t\\t\\t\\t\\t\\t\\t\\t\\t\\t...</td>\n",
       "      <td>workday resumes</td>\n",
       "    </tr>\n",
       "    <tr>\n",
       "      <th>15</th>\n",
       "      <td>Shireesh Balasani                             ...</td>\n",
       "      <td>workday resumes</td>\n",
       "    </tr>\n",
       "    <tr>\n",
       "      <th>16</th>\n",
       "      <td>\\tWorkday Integration Consultant\\n\\nName      ...</td>\n",
       "      <td>workday resumes</td>\n",
       "    </tr>\n",
       "    <tr>\n",
       "      <th>17</th>\n",
       "      <td>Seeking suitable positions in Workday HCM  as ...</td>\n",
       "      <td>workday resumes</td>\n",
       "    </tr>\n",
       "    <tr>\n",
       "      <th>18</th>\n",
       "      <td>\\nWORKDAY | HCM | FCM\\nName \\t\\t: Kumar S.S\\nR...</td>\n",
       "      <td>workday resumes</td>\n",
       "    </tr>\n",
       "    <tr>\n",
       "      <th>19</th>\n",
       "      <td>Venkateswarlu.B\\t\\t\\t\\t\\t\\t\\t\\tWorkday Consult...</td>\n",
       "      <td>workday resumes</td>\n",
       "    </tr>\n",
       "    <tr>\n",
       "      <th>20</th>\n",
       "      <td>...</td>\n",
       "      <td>workday resumes</td>\n",
       "    </tr>\n",
       "  </tbody>\n",
       "</table>\n",
       "</div>"
      ],
      "text/plain": [
       "                                              Resumes         Category\n",
       "0   Chinna Subbarayudu M\\nDOB: 06th March 1994\\nNa...  workday resumes\n",
       "1   \\t\\n\\n\\nName         : Gopi Krishna Reddy\\n\\t\\...  workday resumes\n",
       "2   Hari Krishna M\\n\\n\\nSummary:\\nA result oriente...  workday resumes\n",
       "3   Harikrishna Akula                             ...  workday resumes\n",
       "4   HIMA.MENDU\\n  \\n\\nCareer Objective\\nTo continu...  workday resumes\n",
       "5                                         \\n      ...  workday resumes\n",
       "6   \\t\\t\\t\\t\\t\\t\\tName:\\tJ. Sumanth Royal.\\n\\t\\nPR...  workday resumes\n",
       "7   \\n\\nJYOTI VERMA\\t\\t\\t\\t\\t\\n\\n\\n\\n3 years of Ex...  workday resumes\n",
       "8   \\t\\t\\t\\t\\tMadeeswar A\\n\\t\\n\\t\\nPROFILE SUMMARY...  workday resumes\n",
       "9   \\n\\nMooraboyina Guravaiah\\nWorkday Integration...  workday resumes\n",
       "10  Name\\t: Naresh Babu Cherukuri\\n\\nObjective:\\nT...  workday resumes\n",
       "11  VENKATA SAIKRISHNA\\n Workday Consultant\\n\\n\\nP...  workday resumes\n",
       "12  \\n\\n\\n3.3 years of IT experience as Workday HC...  workday resumes\n",
       "13  Rahul  (Techno Functional Consultant)  \\nProfe...  workday resumes\n",
       "14  Ramesh A\\t\\t\\t\\t\\t\\t\\t\\t\\t\\t\\t\\t\\t\\t\\t\\t\\t\\t\\t...  workday resumes\n",
       "15  Shireesh Balasani                             ...  workday resumes\n",
       "16  \\tWorkday Integration Consultant\\n\\nName      ...  workday resumes\n",
       "17  Seeking suitable positions in Workday HCM  as ...  workday resumes\n",
       "18  \\nWORKDAY | HCM | FCM\\nName \\t\\t: Kumar S.S\\nR...  workday resumes\n",
       "19  Venkateswarlu.B\\t\\t\\t\\t\\t\\t\\t\\tWorkday Consult...  workday resumes\n",
       "20                                                ...  workday resumes"
      ]
     },
     "execution_count": 26,
     "metadata": {},
     "output_type": "execute_result"
    }
   ],
   "source": [
    "data3 = pd.DataFrame(resumeTxt, columns=['Resumes'])\n",
    "data3['Category']='workday resumes'\n",
    "data3"
   ]
  },
  {
   "cell_type": "code",
   "execution_count": 27,
   "id": "94986959",
   "metadata": {},
   "outputs": [
    {
     "data": {
      "text/html": [
       "<div>\n",
       "<style scoped>\n",
       "    .dataframe tbody tr th:only-of-type {\n",
       "        vertical-align: middle;\n",
       "    }\n",
       "\n",
       "    .dataframe tbody tr th {\n",
       "        vertical-align: top;\n",
       "    }\n",
       "\n",
       "    .dataframe thead th {\n",
       "        text-align: right;\n",
       "    }\n",
       "</style>\n",
       "<table border=\"1\" class=\"dataframe\">\n",
       "  <thead>\n",
       "    <tr style=\"text-align: right;\">\n",
       "      <th></th>\n",
       "      <th>Resumes</th>\n",
       "      <th>Category</th>\n",
       "    </tr>\n",
       "  </thead>\n",
       "  <tbody>\n",
       "    <tr>\n",
       "      <th>0</th>\n",
       "      <td>Name: Ravali P \\n\\n                           ...</td>\n",
       "      <td>React JS</td>\n",
       "    </tr>\n",
       "    <tr>\n",
       "      <th>1</th>\n",
       "      <td>\\nSUSOVAN  BAG   \\nSeeking  a  challenging  ...</td>\n",
       "      <td>React JS</td>\n",
       "    </tr>\n",
       "    <tr>\n",
       "      <th>2</th>\n",
       "      <td>Kanumuru Deepak Reddy\\n\\n\\n\\nCAREER OBJECTIVE:...</td>\n",
       "      <td>React JS</td>\n",
       "    </tr>\n",
       "    <tr>\n",
       "      <th>3</th>\n",
       "      <td>HARIPRIYA BATTINA \\nExperience as UI Developer...</td>\n",
       "      <td>React JS</td>\n",
       "    </tr>\n",
       "    <tr>\n",
       "      <th>4</th>\n",
       "      <td>KAMALAKAR REDDY. A \\nLinked In: https://www.li...</td>\n",
       "      <td>React JS</td>\n",
       "    </tr>\n",
       "    <tr>\n",
       "      <th>...</th>\n",
       "      <td>...</td>\n",
       "      <td>...</td>\n",
       "    </tr>\n",
       "    <tr>\n",
       "      <th>74</th>\n",
       "      <td>\\tWorkday Integration Consultant\\n\\nName      ...</td>\n",
       "      <td>workday resumes</td>\n",
       "    </tr>\n",
       "    <tr>\n",
       "      <th>75</th>\n",
       "      <td>Seeking suitable positions in Workday HCM  as ...</td>\n",
       "      <td>workday resumes</td>\n",
       "    </tr>\n",
       "    <tr>\n",
       "      <th>76</th>\n",
       "      <td>\\nWORKDAY | HCM | FCM\\nName \\t\\t: Kumar S.S\\nR...</td>\n",
       "      <td>workday resumes</td>\n",
       "    </tr>\n",
       "    <tr>\n",
       "      <th>77</th>\n",
       "      <td>Venkateswarlu.B\\t\\t\\t\\t\\t\\t\\t\\tWorkday Consult...</td>\n",
       "      <td>workday resumes</td>\n",
       "    </tr>\n",
       "    <tr>\n",
       "      <th>78</th>\n",
       "      <td>...</td>\n",
       "      <td>workday resumes</td>\n",
       "    </tr>\n",
       "  </tbody>\n",
       "</table>\n",
       "<p>79 rows × 2 columns</p>\n",
       "</div>"
      ],
      "text/plain": [
       "                                              Resumes         Category\n",
       "0   Name: Ravali P \\n\\n                           ...         React JS\n",
       "1     \\nSUSOVAN  BAG   \\nSeeking  a  challenging  ...         React JS\n",
       "2   Kanumuru Deepak Reddy\\n\\n\\n\\nCAREER OBJECTIVE:...         React JS\n",
       "3   HARIPRIYA BATTINA \\nExperience as UI Developer...         React JS\n",
       "4   KAMALAKAR REDDY. A \\nLinked In: https://www.li...         React JS\n",
       "..                                                ...              ...\n",
       "74  \\tWorkday Integration Consultant\\n\\nName      ...  workday resumes\n",
       "75  Seeking suitable positions in Workday HCM  as ...  workday resumes\n",
       "76  \\nWORKDAY | HCM | FCM\\nName \\t\\t: Kumar S.S\\nR...  workday resumes\n",
       "77  Venkateswarlu.B\\t\\t\\t\\t\\t\\t\\t\\tWorkday Consult...  workday resumes\n",
       "78                                                ...  workday resumes\n",
       "\n",
       "[79 rows x 2 columns]"
      ]
     },
     "execution_count": 27,
     "metadata": {},
     "output_type": "execute_result"
    }
   ],
   "source": [
    "df = data.append([data1, data2, data3], ignore_index = True)\n",
    "df"
   ]
  },
  {
   "cell_type": "code",
   "execution_count": 29,
   "id": "1c9bbda9",
   "metadata": {},
   "outputs": [],
   "source": [
    "# Replace 'data.xlsx' with the desired file name and path where you want to save the Excel file\n",
    "output_path = 'E:/Data Science/Datascience Intership Project/Project DS3/data.xlsx'\n",
    "\n",
    "# Save the DataFrame to an Excel file\n",
    "df.to_excel(output_path, index=False)"
   ]
  },
  {
   "cell_type": "markdown",
   "id": "e6de9af4",
   "metadata": {},
   "source": [
    "# EDA"
   ]
  },
  {
   "cell_type": "code",
   "execution_count": 31,
   "id": "b20a1901",
   "metadata": {},
   "outputs": [
    {
     "name": "stdout",
     "output_type": "stream",
     "text": [
      "<class 'pandas.core.frame.DataFrame'>\n",
      "RangeIndex: 79 entries, 0 to 78\n",
      "Data columns (total 2 columns):\n",
      " #   Column    Non-Null Count  Dtype \n",
      "---  ------    --------------  ----- \n",
      " 0   Resumes   79 non-null     object\n",
      " 1   Category  79 non-null     object\n",
      "dtypes: object(2)\n",
      "memory usage: 1.4+ KB\n"
     ]
    }
   ],
   "source": [
    "df.info()"
   ]
  },
  {
   "cell_type": "code",
   "execution_count": 32,
   "id": "dcb8e9ff",
   "metadata": {},
   "outputs": [
    {
     "data": {
      "text/plain": [
       "0"
      ]
     },
     "execution_count": 32,
     "metadata": {},
     "output_type": "execute_result"
    }
   ],
   "source": [
    "df.duplicated().sum()"
   ]
  },
  {
   "cell_type": "code",
   "execution_count": 33,
   "id": "e71d3b7e",
   "metadata": {},
   "outputs": [
    {
     "data": {
      "text/html": [
       "<div>\n",
       "<style scoped>\n",
       "    .dataframe tbody tr th:only-of-type {\n",
       "        vertical-align: middle;\n",
       "    }\n",
       "\n",
       "    .dataframe tbody tr th {\n",
       "        vertical-align: top;\n",
       "    }\n",
       "\n",
       "    .dataframe thead th {\n",
       "        text-align: right;\n",
       "    }\n",
       "</style>\n",
       "<table border=\"1\" class=\"dataframe\">\n",
       "  <thead>\n",
       "    <tr style=\"text-align: right;\">\n",
       "      <th></th>\n",
       "      <th>Resumes</th>\n",
       "      <th>Category</th>\n",
       "    </tr>\n",
       "  </thead>\n",
       "  <tbody>\n",
       "    <tr>\n",
       "      <th>0</th>\n",
       "      <td>name: ravali p \\n\\n                           ...</td>\n",
       "      <td>React JS</td>\n",
       "    </tr>\n",
       "    <tr>\n",
       "      <th>1</th>\n",
       "      <td>\\nsusovan  bag   \\nseeking  a  challenging  ...</td>\n",
       "      <td>React JS</td>\n",
       "    </tr>\n",
       "    <tr>\n",
       "      <th>2</th>\n",
       "      <td>kanumuru deepak reddy\\n\\n\\n\\ncareer objective:...</td>\n",
       "      <td>React JS</td>\n",
       "    </tr>\n",
       "    <tr>\n",
       "      <th>3</th>\n",
       "      <td>haripriya battina \\nexperience as ui developer...</td>\n",
       "      <td>React JS</td>\n",
       "    </tr>\n",
       "    <tr>\n",
       "      <th>4</th>\n",
       "      <td>kamalakar reddy. a \\nlinked in: https://www.li...</td>\n",
       "      <td>React JS</td>\n",
       "    </tr>\n",
       "  </tbody>\n",
       "</table>\n",
       "</div>"
      ],
      "text/plain": [
       "                                             Resumes  Category\n",
       "0  name: ravali p \\n\\n                           ...  React JS\n",
       "1    \\nsusovan  bag   \\nseeking  a  challenging  ...  React JS\n",
       "2  kanumuru deepak reddy\\n\\n\\n\\ncareer objective:...  React JS\n",
       "3  haripriya battina \\nexperience as ui developer...  React JS\n",
       "4  kamalakar reddy. a \\nlinked in: https://www.li...  React JS"
      ]
     },
     "execution_count": 33,
     "metadata": {},
     "output_type": "execute_result"
    }
   ],
   "source": [
    "# Converting into Lower case\n",
    "df['Resumes']=df['Resumes'].str.lower()\n",
    "df.head()"
   ]
  },
  {
   "cell_type": "code",
   "execution_count": 34,
   "id": "a7f7fd64",
   "metadata": {},
   "outputs": [
    {
     "data": {
      "text/html": [
       "<div>\n",
       "<style scoped>\n",
       "    .dataframe tbody tr th:only-of-type {\n",
       "        vertical-align: middle;\n",
       "    }\n",
       "\n",
       "    .dataframe tbody tr th {\n",
       "        vertical-align: top;\n",
       "    }\n",
       "\n",
       "    .dataframe thead th {\n",
       "        text-align: right;\n",
       "    }\n",
       "</style>\n",
       "<table border=\"1\" class=\"dataframe\">\n",
       "  <thead>\n",
       "    <tr style=\"text-align: right;\">\n",
       "      <th></th>\n",
       "      <th>Resumes</th>\n",
       "      <th>Category</th>\n",
       "      <th>clean_text</th>\n",
       "    </tr>\n",
       "  </thead>\n",
       "  <tbody>\n",
       "    <tr>\n",
       "      <th>0</th>\n",
       "      <td>name: ravali p \\n\\n                           ...</td>\n",
       "      <td>React JS</td>\n",
       "      <td>name ravali p                                 ...</td>\n",
       "    </tr>\n",
       "    <tr>\n",
       "      <th>1</th>\n",
       "      <td>\\nsusovan  bag   \\nseeking  a  challenging  ...</td>\n",
       "      <td>React JS</td>\n",
       "      <td>susovan  bag   seeking  a  challenging  posi...</td>\n",
       "    </tr>\n",
       "    <tr>\n",
       "      <th>2</th>\n",
       "      <td>kanumuru deepak reddy\\n\\n\\n\\ncareer objective:...</td>\n",
       "      <td>React JS</td>\n",
       "      <td>kanumuru deepak reddycareer objectiveto secure...</td>\n",
       "    </tr>\n",
       "    <tr>\n",
       "      <th>3</th>\n",
       "      <td>haripriya battina \\nexperience as ui developer...</td>\n",
       "      <td>React JS</td>\n",
       "      <td>haripriya battina experience as ui developer i...</td>\n",
       "    </tr>\n",
       "    <tr>\n",
       "      <th>4</th>\n",
       "      <td>kamalakar reddy. a \\nlinked in: https://www.li...</td>\n",
       "      <td>React JS</td>\n",
       "      <td>kamalakar reddy. a linked in  professional sum...</td>\n",
       "    </tr>\n",
       "  </tbody>\n",
       "</table>\n",
       "</div>"
      ],
      "text/plain": [
       "                                             Resumes  Category  \\\n",
       "0  name: ravali p \\n\\n                           ...  React JS   \n",
       "1    \\nsusovan  bag   \\nseeking  a  challenging  ...  React JS   \n",
       "2  kanumuru deepak reddy\\n\\n\\n\\ncareer objective:...  React JS   \n",
       "3  haripriya battina \\nexperience as ui developer...  React JS   \n",
       "4  kamalakar reddy. a \\nlinked in: https://www.li...  React JS   \n",
       "\n",
       "                                          clean_text  \n",
       "0  name ravali p                                 ...  \n",
       "1    susovan  bag   seeking  a  challenging  posi...  \n",
       "2  kanumuru deepak reddycareer objectiveto secure...  \n",
       "3  haripriya battina experience as ui developer i...  \n",
       "4  kamalakar reddy. a linked in  professional sum...  "
      ]
     },
     "execution_count": 34,
     "metadata": {},
     "output_type": "execute_result"
    }
   ],
   "source": [
    "# Removing other unwanted text\n",
    "import string\n",
    "\n",
    "def clean_text(text):\n",
    "    text = re.sub('\\[.*?\\]', '', text)\n",
    "    text = re.sub('\\w*\\d\\w*', '', text)\n",
    "    text = re.sub(\"[0-9\" \"]+\", '',text)\n",
    "    text = re.sub('[‘’“”…]', '', text)\n",
    "    text = re.sub('http[^\\s]+', '',text)\n",
    "    text = re.sub(':', '',text)\n",
    "    text = re.sub('\\n', '',text)\n",
    "    text = re.sub(\"●\", \" \",text)\n",
    "    text = re.sub(\"◉\", \" \",text)\n",
    "    text = re.sub(\"\", \" \",text) \n",
    "    text = re.sub(\"!\", \" \",text) \n",
    "    return text\n",
    "\n",
    "clean = lambda x: clean_text(x)\n",
    "df[\"clean_text\"] = df[\"Resumes\"].apply(clean_text) # Clean The Text\n",
    "df.head()"
   ]
  },
  {
   "cell_type": "code",
   "execution_count": 35,
   "id": "ba3d0033",
   "metadata": {},
   "outputs": [
    {
     "data": {
      "text/html": [
       "<div>\n",
       "<style scoped>\n",
       "    .dataframe tbody tr th:only-of-type {\n",
       "        vertical-align: middle;\n",
       "    }\n",
       "\n",
       "    .dataframe tbody tr th {\n",
       "        vertical-align: top;\n",
       "    }\n",
       "\n",
       "    .dataframe thead th {\n",
       "        text-align: right;\n",
       "    }\n",
       "</style>\n",
       "<table border=\"1\" class=\"dataframe\">\n",
       "  <thead>\n",
       "    <tr style=\"text-align: right;\">\n",
       "      <th></th>\n",
       "      <th>Resumes</th>\n",
       "      <th>Category</th>\n",
       "      <th>clean_text</th>\n",
       "    </tr>\n",
       "  </thead>\n",
       "  <tbody>\n",
       "    <tr>\n",
       "      <th>0</th>\n",
       "      <td>name: ravali p \\n\\n                           ...</td>\n",
       "      <td>React JS</td>\n",
       "      <td>name ravali p                                 ...</td>\n",
       "    </tr>\n",
       "    <tr>\n",
       "      <th>1</th>\n",
       "      <td>\\nsusovan  bag   \\nseeking  a  challenging  ...</td>\n",
       "      <td>React JS</td>\n",
       "      <td>susovan  bag   seeking  a  challenging  posi...</td>\n",
       "    </tr>\n",
       "    <tr>\n",
       "      <th>2</th>\n",
       "      <td>kanumuru deepak reddy\\n\\n\\n\\ncareer objective:...</td>\n",
       "      <td>React JS</td>\n",
       "      <td>kanumuru deepak reddycareer objectiveto secure...</td>\n",
       "    </tr>\n",
       "    <tr>\n",
       "      <th>3</th>\n",
       "      <td>haripriya battina \\nexperience as ui developer...</td>\n",
       "      <td>React JS</td>\n",
       "      <td>haripriya battina experience as ui developer i...</td>\n",
       "    </tr>\n",
       "    <tr>\n",
       "      <th>4</th>\n",
       "      <td>kamalakar reddy. a \\nlinked in: https://www.li...</td>\n",
       "      <td>React JS</td>\n",
       "      <td>kamalakar reddy. a linked in  professional sum...</td>\n",
       "    </tr>\n",
       "  </tbody>\n",
       "</table>\n",
       "</div>"
      ],
      "text/plain": [
       "                                             Resumes  Category  \\\n",
       "0  name: ravali p \\n\\n                           ...  React JS   \n",
       "1    \\nsusovan  bag   \\nseeking  a  challenging  ...  React JS   \n",
       "2  kanumuru deepak reddy\\n\\n\\n\\ncareer objective:...  React JS   \n",
       "3  haripriya battina \\nexperience as ui developer...  React JS   \n",
       "4  kamalakar reddy. a \\nlinked in: https://www.li...  React JS   \n",
       "\n",
       "                                          clean_text  \n",
       "0  name ravali p                                 ...  \n",
       "1    susovan  bag   seeking  a  challenging  posi...  \n",
       "2  kanumuru deepak reddycareer objectiveto secure...  \n",
       "3  haripriya battina experience as ui developer i...  \n",
       "4  kamalakar reddy. a linked in  professional sum...  "
      ]
     },
     "execution_count": 35,
     "metadata": {},
     "output_type": "execute_result"
    }
   ],
   "source": [
    "import string\n",
    "\n",
    "def remove_punctuation(text):\n",
    "    # Get the translation table for removing punctuation\n",
    "    translator = str.maketrans('', '', string.punctuation)\n",
    "    # Remove punctuation using the translation table\n",
    "    cl_text = text.translate(translator)\n",
    "    return cl_text\n",
    "\n",
    "clean = lambda x: clean_text(x)\n",
    "df[\"clean_text\"] = df[\"Resumes\"].apply(clean_text) # Clean The Text\n",
    "df.head()"
   ]
  },
  {
   "cell_type": "markdown",
   "id": "efe1685b",
   "metadata": {},
   "source": [
    "### Tokenization"
   ]
  },
  {
   "cell_type": "code",
   "execution_count": 36,
   "id": "3ca59a04",
   "metadata": {},
   "outputs": [
    {
     "data": {
      "text/html": [
       "<div>\n",
       "<style scoped>\n",
       "    .dataframe tbody tr th:only-of-type {\n",
       "        vertical-align: middle;\n",
       "    }\n",
       "\n",
       "    .dataframe tbody tr th {\n",
       "        vertical-align: top;\n",
       "    }\n",
       "\n",
       "    .dataframe thead th {\n",
       "        text-align: right;\n",
       "    }\n",
       "</style>\n",
       "<table border=\"1\" class=\"dataframe\">\n",
       "  <thead>\n",
       "    <tr style=\"text-align: right;\">\n",
       "      <th></th>\n",
       "      <th>Resumes</th>\n",
       "      <th>Category</th>\n",
       "      <th>clean_text</th>\n",
       "      <th>NC_text</th>\n",
       "    </tr>\n",
       "  </thead>\n",
       "  <tbody>\n",
       "    <tr>\n",
       "      <th>0</th>\n",
       "      <td>name: ravali p \\n\\n                           ...</td>\n",
       "      <td>React JS</td>\n",
       "      <td>name ravali p                                 ...</td>\n",
       "      <td>name ravali p curriculum vita special comput s...</td>\n",
       "    </tr>\n",
       "    <tr>\n",
       "      <th>1</th>\n",
       "      <td>\\nsusovan  bag   \\nseeking  a  challenging  ...</td>\n",
       "      <td>React JS</td>\n",
       "      <td>susovan  bag   seeking  a  challenging  posi...</td>\n",
       "      <td>susovan bag seek challeng posit field scienc t...</td>\n",
       "    </tr>\n",
       "    <tr>\n",
       "      <th>2</th>\n",
       "      <td>kanumuru deepak reddy\\n\\n\\n\\ncareer objective:...</td>\n",
       "      <td>React JS</td>\n",
       "      <td>kanumuru deepak reddycareer objectiveto secure...</td>\n",
       "      <td>kanumuru deepak reddycar objectiveto secur pos...</td>\n",
       "    </tr>\n",
       "    <tr>\n",
       "      <th>3</th>\n",
       "      <td>haripriya battina \\nexperience as ui developer...</td>\n",
       "      <td>React JS</td>\n",
       "      <td>haripriya battina experience as ui developer i...</td>\n",
       "      <td>haripriya battina experi ui develop reactj jav...</td>\n",
       "    </tr>\n",
       "    <tr>\n",
       "      <th>4</th>\n",
       "      <td>kamalakar reddy. a \\nlinked in: https://www.li...</td>\n",
       "      <td>React JS</td>\n",
       "      <td>kamalakar reddy. a linked in  professional sum...</td>\n",
       "      <td>kamalakar reddi link profession summari year e...</td>\n",
       "    </tr>\n",
       "  </tbody>\n",
       "</table>\n",
       "</div>"
      ],
      "text/plain": [
       "                                             Resumes  Category  \\\n",
       "0  name: ravali p \\n\\n                           ...  React JS   \n",
       "1    \\nsusovan  bag   \\nseeking  a  challenging  ...  React JS   \n",
       "2  kanumuru deepak reddy\\n\\n\\n\\ncareer objective:...  React JS   \n",
       "3  haripriya battina \\nexperience as ui developer...  React JS   \n",
       "4  kamalakar reddy. a \\nlinked in: https://www.li...  React JS   \n",
       "\n",
       "                                          clean_text  \\\n",
       "0  name ravali p                                 ...   \n",
       "1    susovan  bag   seeking  a  challenging  posi...   \n",
       "2  kanumuru deepak reddycareer objectiveto secure...   \n",
       "3  haripriya battina experience as ui developer i...   \n",
       "4  kamalakar reddy. a linked in  professional sum...   \n",
       "\n",
       "                                             NC_text  \n",
       "0  name ravali p curriculum vita special comput s...  \n",
       "1  susovan bag seek challeng posit field scienc t...  \n",
       "2  kanumuru deepak reddycar objectiveto secur pos...  \n",
       "3  haripriya battina experi ui develop reactj jav...  \n",
       "4  kamalakar reddi link profession summari year e...  "
      ]
     },
     "execution_count": 36,
     "metadata": {},
     "output_type": "execute_result"
    }
   ],
   "source": [
    "# Tokenization,Stammimg and Removing stopwords,punctuations\n",
    "from nltk.corpus import stopwords\n",
    "import nltk\n",
    "from string import punctuation\n",
    "from nltk.stem.porter import *\n",
    "stop_words = list(set(stopwords.words('english')))+list(punctuation)+ ['haha','Yes','I','and','the','in','to','of','for','with','as']\n",
    "\n",
    "# tokenize\n",
    "df['NC_text'] = [nltk.word_tokenize(x) for x in df['clean_text']]\n",
    "\n",
    "# stopword removal\n",
    "df['NC_text'] = df['NC_text'].apply(lambda row: [word for word in row if word not in stop_words])\n",
    "\n",
    "# stemming words\n",
    "stemmer = PorterStemmer()\n",
    "df['NC_text'] = df['NC_text'].apply(lambda x: [stemmer.stem(i) for i in x])\n",
    "df['NC_text'] = df['NC_text'].apply(lambda x: ' '.join(x))\n",
    "df.head()"
   ]
  },
  {
   "cell_type": "markdown",
   "id": "9d773987",
   "metadata": {},
   "source": [
    "##  CountVectorizer\n",
    "      CountVectorizer is a feature extraction technique used in natural language processing (NLP) to convert a collection of text documents into numerical feature vectors."
   ]
  },
  {
   "cell_type": "code",
   "execution_count": 37,
   "id": "d085907a",
   "metadata": {},
   "outputs": [
    {
     "data": {
      "text/html": [
       "<div>\n",
       "<style scoped>\n",
       "    .dataframe tbody tr th:only-of-type {\n",
       "        vertical-align: middle;\n",
       "    }\n",
       "\n",
       "    .dataframe tbody tr th {\n",
       "        vertical-align: top;\n",
       "    }\n",
       "\n",
       "    .dataframe thead th {\n",
       "        text-align: right;\n",
       "    }\n",
       "</style>\n",
       "<table border=\"1\" class=\"dataframe\">\n",
       "  <thead>\n",
       "    <tr style=\"text-align: right;\">\n",
       "      <th></th>\n",
       "      <th>term</th>\n",
       "      <th>occurrences</th>\n",
       "      <th>frequency</th>\n",
       "    </tr>\n",
       "  </thead>\n",
       "  <tbody>\n",
       "    <tr>\n",
       "      <th>0</th>\n",
       "      <td>ab</td>\n",
       "      <td>1</td>\n",
       "      <td>0.000031</td>\n",
       "    </tr>\n",
       "    <tr>\n",
       "      <th>1</th>\n",
       "      <td>abdul</td>\n",
       "      <td>2</td>\n",
       "      <td>0.000061</td>\n",
       "    </tr>\n",
       "    <tr>\n",
       "      <th>2</th>\n",
       "      <td>abil</td>\n",
       "      <td>35</td>\n",
       "      <td>0.001068</td>\n",
       "    </tr>\n",
       "    <tr>\n",
       "      <th>3</th>\n",
       "      <td>abilities</td>\n",
       "      <td>1</td>\n",
       "      <td>0.000031</td>\n",
       "    </tr>\n",
       "    <tr>\n",
       "      <th>4</th>\n",
       "      <td>abl</td>\n",
       "      <td>3</td>\n",
       "      <td>0.000092</td>\n",
       "    </tr>\n",
       "  </tbody>\n",
       "</table>\n",
       "</div>"
      ],
      "text/plain": [
       "        term  occurrences  frequency\n",
       "0         ab            1   0.000031\n",
       "1      abdul            2   0.000061\n",
       "2       abil           35   0.001068\n",
       "3  abilities            1   0.000031\n",
       "4        abl            3   0.000092"
      ]
     },
     "execution_count": 37,
     "metadata": {},
     "output_type": "execute_result"
    }
   ],
   "source": [
    "from sklearn.feature_extraction.text import CountVectorizer\n",
    "import numpy as np\n",
    "vectorizer = CountVectorizer(min_df = 1, max_df = 0.9, stop_words='english')\n",
    "X = vectorizer.fit_transform(df[\"NC_text\"])\n",
    "word_freq_df = pd.DataFrame({'term': vectorizer.get_feature_names(), 'occurrences':np.asarray(X.sum(axis=0)).ravel().tolist()})\n",
    "word_freq_df['frequency'] = word_freq_df['occurrences']/np.sum(word_freq_df['occurrences'])\n",
    "word_freq_df.head()"
   ]
  },
  {
   "cell_type": "markdown",
   "id": "334f443d",
   "metadata": {},
   "source": [
    "## TFIDF - Term frequency inverse Document Frequency\n",
    "         The TF-IDF score helps to identify important and distinguishing terms within a document relative to a corpus of documents. It is often used for tasks such as information retrieval, document classification, and text summarization."
   ]
  },
  {
   "cell_type": "code",
   "execution_count": 38,
   "id": "c4edd554",
   "metadata": {},
   "outputs": [
    {
     "data": {
      "text/html": [
       "<div>\n",
       "<style scoped>\n",
       "    .dataframe tbody tr th:only-of-type {\n",
       "        vertical-align: middle;\n",
       "    }\n",
       "\n",
       "    .dataframe tbody tr th {\n",
       "        vertical-align: top;\n",
       "    }\n",
       "\n",
       "    .dataframe thead th {\n",
       "        text-align: right;\n",
       "    }\n",
       "</style>\n",
       "<table border=\"1\" class=\"dataframe\">\n",
       "  <thead>\n",
       "    <tr style=\"text-align: right;\">\n",
       "      <th></th>\n",
       "      <th>abil</th>\n",
       "      <th>absenc</th>\n",
       "      <th>academ</th>\n",
       "      <th>accept</th>\n",
       "      <th>access</th>\n",
       "      <th>accord</th>\n",
       "      <th>account</th>\n",
       "      <th>achiev</th>\n",
       "      <th>action</th>\n",
       "      <th>activ</th>\n",
       "      <th>...</th>\n",
       "      <th>workshop</th>\n",
       "      <th>workstat</th>\n",
       "      <th>world</th>\n",
       "      <th>writ</th>\n",
       "      <th>write</th>\n",
       "      <th>writer</th>\n",
       "      <th>written</th>\n",
       "      <th>xml</th>\n",
       "      <th>xslt</th>\n",
       "      <th>xtt</th>\n",
       "    </tr>\n",
       "  </thead>\n",
       "  <tbody>\n",
       "    <tr>\n",
       "      <th>0</th>\n",
       "      <td>0.000000</td>\n",
       "      <td>0.0</td>\n",
       "      <td>0.000000</td>\n",
       "      <td>0.0</td>\n",
       "      <td>0.0</td>\n",
       "      <td>0.000000</td>\n",
       "      <td>0.0</td>\n",
       "      <td>0.085529</td>\n",
       "      <td>0.000000</td>\n",
       "      <td>0.000000</td>\n",
       "      <td>...</td>\n",
       "      <td>0.0</td>\n",
       "      <td>0.0</td>\n",
       "      <td>0.000000</td>\n",
       "      <td>0.000000</td>\n",
       "      <td>0.0</td>\n",
       "      <td>0.0</td>\n",
       "      <td>0.000000</td>\n",
       "      <td>0.0</td>\n",
       "      <td>0.0</td>\n",
       "      <td>0.0</td>\n",
       "    </tr>\n",
       "    <tr>\n",
       "      <th>1</th>\n",
       "      <td>0.000000</td>\n",
       "      <td>0.0</td>\n",
       "      <td>0.115020</td>\n",
       "      <td>0.0</td>\n",
       "      <td>0.0</td>\n",
       "      <td>0.000000</td>\n",
       "      <td>0.0</td>\n",
       "      <td>0.000000</td>\n",
       "      <td>0.000000</td>\n",
       "      <td>0.000000</td>\n",
       "      <td>...</td>\n",
       "      <td>0.0</td>\n",
       "      <td>0.0</td>\n",
       "      <td>0.000000</td>\n",
       "      <td>0.000000</td>\n",
       "      <td>0.0</td>\n",
       "      <td>0.0</td>\n",
       "      <td>0.000000</td>\n",
       "      <td>0.0</td>\n",
       "      <td>0.0</td>\n",
       "      <td>0.0</td>\n",
       "    </tr>\n",
       "    <tr>\n",
       "      <th>2</th>\n",
       "      <td>0.000000</td>\n",
       "      <td>0.0</td>\n",
       "      <td>0.054479</td>\n",
       "      <td>0.0</td>\n",
       "      <td>0.0</td>\n",
       "      <td>0.054479</td>\n",
       "      <td>0.0</td>\n",
       "      <td>0.000000</td>\n",
       "      <td>0.058778</td>\n",
       "      <td>0.034464</td>\n",
       "      <td>...</td>\n",
       "      <td>0.0</td>\n",
       "      <td>0.0</td>\n",
       "      <td>0.061415</td>\n",
       "      <td>0.054479</td>\n",
       "      <td>0.0</td>\n",
       "      <td>0.0</td>\n",
       "      <td>0.108958</td>\n",
       "      <td>0.0</td>\n",
       "      <td>0.0</td>\n",
       "      <td>0.0</td>\n",
       "    </tr>\n",
       "    <tr>\n",
       "      <th>3</th>\n",
       "      <td>0.000000</td>\n",
       "      <td>0.0</td>\n",
       "      <td>0.078791</td>\n",
       "      <td>0.0</td>\n",
       "      <td>0.0</td>\n",
       "      <td>0.000000</td>\n",
       "      <td>0.0</td>\n",
       "      <td>0.066153</td>\n",
       "      <td>0.000000</td>\n",
       "      <td>0.099687</td>\n",
       "      <td>...</td>\n",
       "      <td>0.0</td>\n",
       "      <td>0.0</td>\n",
       "      <td>0.177643</td>\n",
       "      <td>0.000000</td>\n",
       "      <td>0.0</td>\n",
       "      <td>0.0</td>\n",
       "      <td>0.000000</td>\n",
       "      <td>0.0</td>\n",
       "      <td>0.0</td>\n",
       "      <td>0.0</td>\n",
       "    </tr>\n",
       "    <tr>\n",
       "      <th>4</th>\n",
       "      <td>0.049115</td>\n",
       "      <td>0.0</td>\n",
       "      <td>0.000000</td>\n",
       "      <td>0.0</td>\n",
       "      <td>0.0</td>\n",
       "      <td>0.000000</td>\n",
       "      <td>0.0</td>\n",
       "      <td>0.000000</td>\n",
       "      <td>0.000000</td>\n",
       "      <td>0.094866</td>\n",
       "      <td>...</td>\n",
       "      <td>0.0</td>\n",
       "      <td>0.0</td>\n",
       "      <td>0.000000</td>\n",
       "      <td>0.000000</td>\n",
       "      <td>0.0</td>\n",
       "      <td>0.0</td>\n",
       "      <td>0.000000</td>\n",
       "      <td>0.0</td>\n",
       "      <td>0.0</td>\n",
       "      <td>0.0</td>\n",
       "    </tr>\n",
       "  </tbody>\n",
       "</table>\n",
       "<p>5 rows × 1000 columns</p>\n",
       "</div>"
      ],
      "text/plain": [
       "       abil  absenc    academ  accept  access    accord  account    achiev  \\\n",
       "0  0.000000     0.0  0.000000     0.0     0.0  0.000000      0.0  0.085529   \n",
       "1  0.000000     0.0  0.115020     0.0     0.0  0.000000      0.0  0.000000   \n",
       "2  0.000000     0.0  0.054479     0.0     0.0  0.054479      0.0  0.000000   \n",
       "3  0.000000     0.0  0.078791     0.0     0.0  0.000000      0.0  0.066153   \n",
       "4  0.049115     0.0  0.000000     0.0     0.0  0.000000      0.0  0.000000   \n",
       "\n",
       "     action     activ  ...  workshop  workstat     world      writ  write  \\\n",
       "0  0.000000  0.000000  ...       0.0       0.0  0.000000  0.000000    0.0   \n",
       "1  0.000000  0.000000  ...       0.0       0.0  0.000000  0.000000    0.0   \n",
       "2  0.058778  0.034464  ...       0.0       0.0  0.061415  0.054479    0.0   \n",
       "3  0.000000  0.099687  ...       0.0       0.0  0.177643  0.000000    0.0   \n",
       "4  0.000000  0.094866  ...       0.0       0.0  0.000000  0.000000    0.0   \n",
       "\n",
       "   writer   written  xml  xslt  xtt  \n",
       "0     0.0  0.000000  0.0   0.0  0.0  \n",
       "1     0.0  0.000000  0.0   0.0  0.0  \n",
       "2     0.0  0.108958  0.0   0.0  0.0  \n",
       "3     0.0  0.000000  0.0   0.0  0.0  \n",
       "4     0.0  0.000000  0.0   0.0  0.0  \n",
       "\n",
       "[5 rows x 1000 columns]"
      ]
     },
     "execution_count": 38,
     "metadata": {},
     "output_type": "execute_result"
    }
   ],
   "source": [
    "from sklearn.feature_extraction.text import TfidfVectorizer\n",
    "vectorizer = TfidfVectorizer(stop_words='english', max_features= 1000, max_df = 0.5, smooth_idf=True) #keep top 1000 words\n",
    "doc_vec = vectorizer.fit_transform(df[\"NC_text\"])\n",
    "names_features = vectorizer.get_feature_names()\n",
    "dense = doc_vec.todense()\n",
    "denselist = dense.tolist()\n",
    "df1 = pd.DataFrame(denselist, columns = names_features)\n",
    "df1.head()"
   ]
  },
  {
   "cell_type": "markdown",
   "id": "25985a04",
   "metadata": {},
   "source": [
    "## N-gram\n",
    "     N-grams are contiguous sequences of n items (characters, words, or tokens) extracted from a longer text. N-grams are commonly used in natural language processing and computational linguistics to capture the local patterns or relationships between words in a given piece of text. The value of \"n\" determines the number of items in each sequence"
   ]
  },
  {
   "cell_type": "markdown",
   "id": "ea0a9989",
   "metadata": {},
   "source": [
    "### Unigram"
   ]
  },
  {
   "cell_type": "code",
   "execution_count": 39,
   "id": "230d32d3",
   "metadata": {},
   "outputs": [],
   "source": [
    "def get_top_n1_words(corpus, n=None):\n",
    "    vec1 = CountVectorizer(ngram_range=(1,1), max_features=2000).fit(corpus) #for tri-gram, put ngram_range=(3,3)\n",
    "    bag_of_words = vec1.transform(corpus)\n",
    "    sum_words = bag_of_words.sum(axis=0) \n",
    "    words_freq = [(word, sum_words[0, idx]) for word, idx in vec1.vocabulary_.items()]\n",
    "    words_freq = sorted(words_freq, key = lambda x: x[1], reverse=True)\n",
    "    return words_freq[:n]"
   ]
  },
  {
   "cell_type": "code",
   "execution_count": 40,
   "id": "37baf58b",
   "metadata": {},
   "outputs": [
    {
     "data": {
      "text/html": [
       "<div>\n",
       "<style scoped>\n",
       "    .dataframe tbody tr th:only-of-type {\n",
       "        vertical-align: middle;\n",
       "    }\n",
       "\n",
       "    .dataframe tbody tr th {\n",
       "        vertical-align: top;\n",
       "    }\n",
       "\n",
       "    .dataframe thead th {\n",
       "        text-align: right;\n",
       "    }\n",
       "</style>\n",
       "<table border=\"1\" class=\"dataframe\">\n",
       "  <thead>\n",
       "    <tr style=\"text-align: right;\">\n",
       "      <th></th>\n",
       "      <th>uni-gram</th>\n",
       "      <th>Freq</th>\n",
       "    </tr>\n",
       "  </thead>\n",
       "  <tbody>\n",
       "    <tr>\n",
       "      <th>0</th>\n",
       "      <td>report</td>\n",
       "      <td>488</td>\n",
       "    </tr>\n",
       "    <tr>\n",
       "      <th>1</th>\n",
       "      <td>experi</td>\n",
       "      <td>486</td>\n",
       "    </tr>\n",
       "    <tr>\n",
       "      <th>2</th>\n",
       "      <td>use</td>\n",
       "      <td>445</td>\n",
       "    </tr>\n",
       "    <tr>\n",
       "      <th>3</th>\n",
       "      <td>server</td>\n",
       "      <td>437</td>\n",
       "    </tr>\n",
       "    <tr>\n",
       "      <th>4</th>\n",
       "      <td>applic</td>\n",
       "      <td>422</td>\n",
       "    </tr>\n",
       "    <tr>\n",
       "      <th>5</th>\n",
       "      <td>develop</td>\n",
       "      <td>409</td>\n",
       "    </tr>\n",
       "    <tr>\n",
       "      <th>6</th>\n",
       "      <td>work</td>\n",
       "      <td>401</td>\n",
       "    </tr>\n",
       "    <tr>\n",
       "      <th>7</th>\n",
       "      <td>peoplesoft</td>\n",
       "      <td>384</td>\n",
       "    </tr>\n",
       "    <tr>\n",
       "      <th>8</th>\n",
       "      <td>workday</td>\n",
       "      <td>353</td>\n",
       "    </tr>\n",
       "    <tr>\n",
       "      <th>9</th>\n",
       "      <td>integr</td>\n",
       "      <td>343</td>\n",
       "    </tr>\n",
       "    <tr>\n",
       "      <th>10</th>\n",
       "      <td>data</td>\n",
       "      <td>302</td>\n",
       "    </tr>\n",
       "  </tbody>\n",
       "</table>\n",
       "</div>"
      ],
      "text/plain": [
       "      uni-gram  Freq\n",
       "0       report   488\n",
       "1       experi   486\n",
       "2          use   445\n",
       "3       server   437\n",
       "4       applic   422\n",
       "5      develop   409\n",
       "6         work   401\n",
       "7   peoplesoft   384\n",
       "8      workday   353\n",
       "9       integr   343\n",
       "10        data   302"
      ]
     },
     "execution_count": 40,
     "metadata": {},
     "output_type": "execute_result"
    }
   ],
   "source": [
    "top1_words = get_top_n1_words(df[\"NC_text\"], n=200) #top 200\n",
    "top1_df = pd.DataFrame(top1_words)\n",
    "top1_df.columns = [\"uni-gram\", \"Freq\"]\n",
    "top1_df.head(11)"
   ]
  },
  {
   "cell_type": "markdown",
   "id": "fe9198c1",
   "metadata": {},
   "source": [
    "### Bi-gram"
   ]
  },
  {
   "cell_type": "code",
   "execution_count": 41,
   "id": "57be8405",
   "metadata": {},
   "outputs": [],
   "source": [
    "def get_top_n2_words(corpus, n=None):\n",
    "    vec1 = CountVectorizer(ngram_range=(2,2), max_features=2000).fit(corpus) #for tri-gram, put ngram_range=(3,3)\n",
    "    bag_of_words = vec1.transform(corpus)\n",
    "    sum_words = bag_of_words.sum(axis=0) \n",
    "    words_freq = [(word, sum_words[0, idx]) for word, idx in vec1.vocabulary_.items()]\n",
    "    words_freq = sorted(words_freq, key = lambda x: x[1], reverse=True)\n",
    "    return words_freq[:n]"
   ]
  },
  {
   "cell_type": "code",
   "execution_count": 42,
   "id": "ce20dfa0",
   "metadata": {},
   "outputs": [
    {
     "data": {
      "text/html": [
       "<div>\n",
       "<style scoped>\n",
       "    .dataframe tbody tr th:only-of-type {\n",
       "        vertical-align: middle;\n",
       "    }\n",
       "\n",
       "    .dataframe tbody tr th {\n",
       "        vertical-align: top;\n",
       "    }\n",
       "\n",
       "    .dataframe thead th {\n",
       "        text-align: right;\n",
       "    }\n",
       "</style>\n",
       "<table border=\"1\" class=\"dataframe\">\n",
       "  <thead>\n",
       "    <tr style=\"text-align: right;\">\n",
       "      <th></th>\n",
       "      <th>Bi-gram</th>\n",
       "      <th>Freq</th>\n",
       "    </tr>\n",
       "  </thead>\n",
       "  <tbody>\n",
       "    <tr>\n",
       "      <th>0</th>\n",
       "      <td>applic server</td>\n",
       "      <td>120</td>\n",
       "    </tr>\n",
       "    <tr>\n",
       "      <th>1</th>\n",
       "      <td>process schedul</td>\n",
       "      <td>107</td>\n",
       "    </tr>\n",
       "    <tr>\n",
       "      <th>2</th>\n",
       "      <td>sql server</td>\n",
       "      <td>101</td>\n",
       "    </tr>\n",
       "    <tr>\n",
       "      <th>3</th>\n",
       "      <td>web server</td>\n",
       "      <td>83</td>\n",
       "    </tr>\n",
       "    <tr>\n",
       "      <th>4</th>\n",
       "      <td>custom report</td>\n",
       "      <td>76</td>\n",
       "    </tr>\n",
       "    <tr>\n",
       "      <th>5</th>\n",
       "      <td>busi process</td>\n",
       "      <td>75</td>\n",
       "    </tr>\n",
       "    <tr>\n",
       "      <th>6</th>\n",
       "      <td>react js</td>\n",
       "      <td>70</td>\n",
       "    </tr>\n",
       "    <tr>\n",
       "      <th>7</th>\n",
       "      <td>workday studio</td>\n",
       "      <td>61</td>\n",
       "    </tr>\n",
       "    <tr>\n",
       "      <th>8</th>\n",
       "      <td>peopl tool</td>\n",
       "      <td>60</td>\n",
       "    </tr>\n",
       "    <tr>\n",
       "      <th>9</th>\n",
       "      <td>year experi</td>\n",
       "      <td>58</td>\n",
       "    </tr>\n",
       "    <tr>\n",
       "      <th>10</th>\n",
       "      <td>calcul field</td>\n",
       "      <td>57</td>\n",
       "    </tr>\n",
       "  </tbody>\n",
       "</table>\n",
       "</div>"
      ],
      "text/plain": [
       "            Bi-gram  Freq\n",
       "0     applic server   120\n",
       "1   process schedul   107\n",
       "2        sql server   101\n",
       "3        web server    83\n",
       "4     custom report    76\n",
       "5      busi process    75\n",
       "6          react js    70\n",
       "7    workday studio    61\n",
       "8        peopl tool    60\n",
       "9       year experi    58\n",
       "10     calcul field    57"
      ]
     },
     "execution_count": 42,
     "metadata": {},
     "output_type": "execute_result"
    }
   ],
   "source": [
    "top2_words = get_top_n2_words(df[\"NC_text\"], n=200) #top 200\n",
    "top2_df = pd.DataFrame(top2_words)\n",
    "top2_df.columns = [\"Bi-gram\", \"Freq\"]\n",
    "top2_df.head(11)"
   ]
  },
  {
   "cell_type": "markdown",
   "id": "5b20794b",
   "metadata": {},
   "source": [
    "### Tri-gram"
   ]
  },
  {
   "cell_type": "code",
   "execution_count": 43,
   "id": "6f7d7b22",
   "metadata": {},
   "outputs": [],
   "source": [
    "def get_top_n3_words(corpus, n=None):\n",
    "    vec1 = CountVectorizer(ngram_range=(3,3), max_features=2000).fit(corpus)\n",
    "    bag_of_words = vec1.transform(corpus)\n",
    "    sum_words = bag_of_words.sum(axis=0) \n",
    "    words_freq = [(word, sum_words[0, idx]) for word, idx in vec1.vocabulary_.items()]\n",
    "    words_freq =sorted(words_freq, key = lambda x: x[1], reverse=True)\n",
    "    return words_freq[:n]"
   ]
  },
  {
   "cell_type": "code",
   "execution_count": 44,
   "id": "046cdf4a",
   "metadata": {},
   "outputs": [
    {
     "data": {
      "text/html": [
       "<div>\n",
       "<style scoped>\n",
       "    .dataframe tbody tr th:only-of-type {\n",
       "        vertical-align: middle;\n",
       "    }\n",
       "\n",
       "    .dataframe tbody tr th {\n",
       "        vertical-align: top;\n",
       "    }\n",
       "\n",
       "    .dataframe thead th {\n",
       "        text-align: right;\n",
       "    }\n",
       "</style>\n",
       "<table border=\"1\" class=\"dataframe\">\n",
       "  <thead>\n",
       "    <tr style=\"text-align: right;\">\n",
       "      <th></th>\n",
       "      <th>Tri-gram</th>\n",
       "      <th>Freq</th>\n",
       "    </tr>\n",
       "  </thead>\n",
       "  <tbody>\n",
       "    <tr>\n",
       "      <th>0</th>\n",
       "      <td>process schedul server</td>\n",
       "      <td>48</td>\n",
       "    </tr>\n",
       "    <tr>\n",
       "      <th>1</th>\n",
       "      <td>server web server</td>\n",
       "      <td>42</td>\n",
       "    </tr>\n",
       "    <tr>\n",
       "      <th>2</th>\n",
       "      <td>server process schedul</td>\n",
       "      <td>40</td>\n",
       "    </tr>\n",
       "    <tr>\n",
       "      <th>3</th>\n",
       "      <td>applic server web</td>\n",
       "      <td>37</td>\n",
       "    </tr>\n",
       "    <tr>\n",
       "      <th>4</th>\n",
       "      <td>applic server domain</td>\n",
       "      <td>36</td>\n",
       "    </tr>\n",
       "    <tr>\n",
       "      <th>5</th>\n",
       "      <td>server domain process</td>\n",
       "      <td>35</td>\n",
       "    </tr>\n",
       "    <tr>\n",
       "      <th>6</th>\n",
       "      <td>domain process schedul</td>\n",
       "      <td>35</td>\n",
       "    </tr>\n",
       "    <tr>\n",
       "      <th>7</th>\n",
       "      <td>peoplesoft internet architectur</td>\n",
       "      <td>26</td>\n",
       "    </tr>\n",
       "    <tr>\n",
       "      <th>8</th>\n",
       "      <td>domain web server</td>\n",
       "      <td>24</td>\n",
       "    </tr>\n",
       "    <tr>\n",
       "      <th>9</th>\n",
       "      <td>applic server process</td>\n",
       "      <td>23</td>\n",
       "    </tr>\n",
       "    <tr>\n",
       "      <th>10</th>\n",
       "      <td>hands on experi</td>\n",
       "      <td>21</td>\n",
       "    </tr>\n",
       "  </tbody>\n",
       "</table>\n",
       "</div>"
      ],
      "text/plain": [
       "                           Tri-gram  Freq\n",
       "0            process schedul server    48\n",
       "1                 server web server    42\n",
       "2            server process schedul    40\n",
       "3                 applic server web    37\n",
       "4              applic server domain    36\n",
       "5             server domain process    35\n",
       "6            domain process schedul    35\n",
       "7   peoplesoft internet architectur    26\n",
       "8                 domain web server    24\n",
       "9             applic server process    23\n",
       "10                  hands on experi    21"
      ]
     },
     "execution_count": 44,
     "metadata": {},
     "output_type": "execute_result"
    }
   ],
   "source": [
    "top3_words = get_top_n3_words(df[\"NC_text\"], n=200)\n",
    "top3_df = pd.DataFrame(top3_words)\n",
    "top3_df.columns = [\"Tri-gram\", \"Freq\"]\n",
    "top3_df.head(11)"
   ]
  },
  {
   "cell_type": "markdown",
   "id": "5251873f",
   "metadata": {},
   "source": [
    "### TextBlob\n",
    "    Use TextBlob to predict polarity of sentiments (although they are known).\n",
    "\n",
    "\n"
   ]
  },
  {
   "cell_type": "code",
   "execution_count": 45,
   "id": "f715f67e",
   "metadata": {},
   "outputs": [
    {
     "data": {
      "text/html": [
       "<div>\n",
       "<style scoped>\n",
       "    .dataframe tbody tr th:only-of-type {\n",
       "        vertical-align: middle;\n",
       "    }\n",
       "\n",
       "    .dataframe tbody tr th {\n",
       "        vertical-align: top;\n",
       "    }\n",
       "\n",
       "    .dataframe thead th {\n",
       "        text-align: right;\n",
       "    }\n",
       "</style>\n",
       "<table border=\"1\" class=\"dataframe\">\n",
       "  <thead>\n",
       "    <tr style=\"text-align: right;\">\n",
       "      <th></th>\n",
       "      <th>Resumes</th>\n",
       "      <th>Category</th>\n",
       "      <th>clean_text</th>\n",
       "      <th>NC_text</th>\n",
       "      <th>subjectivity</th>\n",
       "      <th>polarity</th>\n",
       "    </tr>\n",
       "  </thead>\n",
       "  <tbody>\n",
       "    <tr>\n",
       "      <th>0</th>\n",
       "      <td>name: ravali p \\n\\n                           ...</td>\n",
       "      <td>React JS</td>\n",
       "      <td>name ravali p                                 ...</td>\n",
       "      <td>name ravali p curriculum vita special comput s...</td>\n",
       "      <td>0.513957</td>\n",
       "      <td>0.565189</td>\n",
       "    </tr>\n",
       "    <tr>\n",
       "      <th>1</th>\n",
       "      <td>\\nsusovan  bag   \\nseeking  a  challenging  ...</td>\n",
       "      <td>React JS</td>\n",
       "      <td>susovan  bag   seeking  a  challenging  posi...</td>\n",
       "      <td>susovan bag seek challeng posit field scienc t...</td>\n",
       "      <td>0.415476</td>\n",
       "      <td>0.419048</td>\n",
       "    </tr>\n",
       "    <tr>\n",
       "      <th>2</th>\n",
       "      <td>kanumuru deepak reddy\\n\\n\\n\\ncareer objective:...</td>\n",
       "      <td>React JS</td>\n",
       "      <td>kanumuru deepak reddycareer objectiveto secure...</td>\n",
       "      <td>kanumuru deepak reddycar objectiveto secur pos...</td>\n",
       "      <td>0.535119</td>\n",
       "      <td>0.090604</td>\n",
       "    </tr>\n",
       "    <tr>\n",
       "      <th>3</th>\n",
       "      <td>haripriya battina \\nexperience as ui developer...</td>\n",
       "      <td>React JS</td>\n",
       "      <td>haripriya battina experience as ui developer i...</td>\n",
       "      <td>haripriya battina experi ui develop reactj jav...</td>\n",
       "      <td>0.428307</td>\n",
       "      <td>0.274868</td>\n",
       "    </tr>\n",
       "    <tr>\n",
       "      <th>4</th>\n",
       "      <td>kamalakar reddy. a \\nlinked in: https://www.li...</td>\n",
       "      <td>React JS</td>\n",
       "      <td>kamalakar reddy. a linked in  professional sum...</td>\n",
       "      <td>kamalakar reddi link profession summari year e...</td>\n",
       "      <td>0.278788</td>\n",
       "      <td>0.245076</td>\n",
       "    </tr>\n",
       "    <tr>\n",
       "      <th>5</th>\n",
       "      <td>\\nnaveen sadhu\\n\\n\\ntitle: software developer\\...</td>\n",
       "      <td>React JS</td>\n",
       "      <td>naveen sadhutitle software developer\\t\\t\\t\\t  ...</td>\n",
       "      <td>naveen sadhutitl softwar develop locat hyderab...</td>\n",
       "      <td>0.593939</td>\n",
       "      <td>0.284848</td>\n",
       "    </tr>\n",
       "    <tr>\n",
       "      <th>6</th>\n",
       "      <td>\\n\\n\\nprofile\\nsearching for the opportunity t...</td>\n",
       "      <td>React JS</td>\n",
       "      <td>profilesearching for the opportunity to bring ...</td>\n",
       "      <td>profilesearch opportun bring year experi softw...</td>\n",
       "      <td>0.784091</td>\n",
       "      <td>-0.191856</td>\n",
       "    </tr>\n",
       "    <tr>\n",
       "      <th>7</th>\n",
       "      <td>\\npragnya pattnaik\\n \\n \\n \\n expertise: \\n \\...</td>\n",
       "      <td>React JS</td>\n",
       "      <td>pragnya pattnaik    expertise  having around ...</td>\n",
       "      <td>pragnya pattnaik expertis around year experi u...</td>\n",
       "      <td>0.586324</td>\n",
       "      <td>0.180789</td>\n",
       "    </tr>\n",
       "    <tr>\n",
       "      <th>8</th>\n",
       "      <td>\\n\\n 204,sri geethika prestige,road number 10...</td>\n",
       "      <td>React JS</td>\n",
       "      <td>,sri geethika prestige,road number ,bandari ...</td>\n",
       "      <td>sri geethika prestig road number bandari layou...</td>\n",
       "      <td>0.611742</td>\n",
       "      <td>0.244773</td>\n",
       "    </tr>\n",
       "    <tr>\n",
       "      <th>9</th>\n",
       "      <td>\\n\\nthirupathamma balla\\n\\nsummary:\\n\\n2.8 yea...</td>\n",
       "      <td>React JS</td>\n",
       "      <td>thirupathamma ballasummary. year of it experie...</td>\n",
       "      <td>thirupathamma ballasummari year experi react d...</td>\n",
       "      <td>0.562626</td>\n",
       "      <td>0.301010</td>\n",
       "    </tr>\n",
       "    <tr>\n",
       "      <th>10</th>\n",
       "      <td>maryala vinay reddy\\n\\nprofessional summary:\\t...</td>\n",
       "      <td>React JS</td>\n",
       "      <td>maryala vinay reddyprofessional summary\\thavin...</td>\n",
       "      <td>maryala vinay reddyprofession summari year suc...</td>\n",
       "      <td>0.329565</td>\n",
       "      <td>0.250622</td>\n",
       "    </tr>\n",
       "  </tbody>\n",
       "</table>\n",
       "</div>"
      ],
      "text/plain": [
       "                                              Resumes  Category  \\\n",
       "0   name: ravali p \\n\\n                           ...  React JS   \n",
       "1     \\nsusovan  bag   \\nseeking  a  challenging  ...  React JS   \n",
       "2   kanumuru deepak reddy\\n\\n\\n\\ncareer objective:...  React JS   \n",
       "3   haripriya battina \\nexperience as ui developer...  React JS   \n",
       "4   kamalakar reddy. a \\nlinked in: https://www.li...  React JS   \n",
       "5   \\nnaveen sadhu\\n\\n\\ntitle: software developer\\...  React JS   \n",
       "6   \\n\\n\\nprofile\\nsearching for the opportunity t...  React JS   \n",
       "7    \\npragnya pattnaik\\n \\n \\n \\n expertise: \\n \\...  React JS   \n",
       "8   \\n\\n 204,sri geethika prestige,road number 10...  React JS   \n",
       "9   \\n\\nthirupathamma balla\\n\\nsummary:\\n\\n2.8 yea...  React JS   \n",
       "10  maryala vinay reddy\\n\\nprofessional summary:\\t...  React JS   \n",
       "\n",
       "                                           clean_text  \\\n",
       "0   name ravali p                                 ...   \n",
       "1     susovan  bag   seeking  a  challenging  posi...   \n",
       "2   kanumuru deepak reddycareer objectiveto secure...   \n",
       "3   haripriya battina experience as ui developer i...   \n",
       "4   kamalakar reddy. a linked in  professional sum...   \n",
       "5   naveen sadhutitle software developer\\t\\t\\t\\t  ...   \n",
       "6   profilesearching for the opportunity to bring ...   \n",
       "7    pragnya pattnaik    expertise  having around ...   \n",
       "8     ,sri geethika prestige,road number ,bandari ...   \n",
       "9   thirupathamma ballasummary. year of it experie...   \n",
       "10  maryala vinay reddyprofessional summary\\thavin...   \n",
       "\n",
       "                                              NC_text  subjectivity  polarity  \n",
       "0   name ravali p curriculum vita special comput s...      0.513957  0.565189  \n",
       "1   susovan bag seek challeng posit field scienc t...      0.415476  0.419048  \n",
       "2   kanumuru deepak reddycar objectiveto secur pos...      0.535119  0.090604  \n",
       "3   haripriya battina experi ui develop reactj jav...      0.428307  0.274868  \n",
       "4   kamalakar reddi link profession summari year e...      0.278788  0.245076  \n",
       "5   naveen sadhutitl softwar develop locat hyderab...      0.593939  0.284848  \n",
       "6   profilesearch opportun bring year experi softw...      0.784091 -0.191856  \n",
       "7   pragnya pattnaik expertis around year experi u...      0.586324  0.180789  \n",
       "8   sri geethika prestig road number bandari layou...      0.611742  0.244773  \n",
       "9   thirupathamma ballasummari year experi react d...      0.562626  0.301010  \n",
       "10  maryala vinay reddyprofession summari year suc...      0.329565  0.250622  "
      ]
     },
     "execution_count": 45,
     "metadata": {},
     "output_type": "execute_result"
    }
   ],
   "source": [
    "#Using textblob\n",
    "from textblob import TextBlob\n",
    "\n",
    "# Get The Subjectivity\n",
    "def sentiment_analysis(ds):\n",
    "    sentiment = TextBlob(ds[\"NC_text\"]).sentiment\n",
    "    return pd.Series([sentiment.subjectivity, sentiment.polarity])\n",
    "\n",
    "# Adding Subjectivity & Polarity\n",
    "df[[\"subjectivity\", \"polarity\"]] = df.apply(sentiment_analysis, axis=1)\n",
    "df.head(11)"
   ]
  },
  {
   "cell_type": "markdown",
   "id": "d392877d",
   "metadata": {},
   "source": [
    "# Data Visual"
   ]
  },
  {
   "cell_type": "markdown",
   "id": "208bec82",
   "metadata": {},
   "source": [
    "# WordCloud"
   ]
  },
  {
   "cell_type": "code",
   "execution_count": 46,
   "id": "e11bab23",
   "metadata": {},
   "outputs": [
    {
     "data": {
      "image/png": "[encoded data removed]",
      "text/plain": [
       "<Figure size 1080x1080 with 1 Axes>"
      ]
     },
     "metadata": {
      "needs_background": "light"
     },
     "output_type": "display_data"
    }
   ],
   "source": [
    "#Generate Word Cloud\n",
    "#wordcloud for entire corpus\n",
    "import matplotlib.pyplot as plt\n",
    "from wordcloud import WordCloud\n",
    "plt.figure(figsize=(12,12),dpi=90)\n",
    "string_Total = \" \".join(df[\"NC_text\"])\n",
    "wordcloud_stw = WordCloud(background_color= 'black', width = 1800, height = 1500).generate(string_Total)\n",
    "plt.imshow(wordcloud_stw);\n"
   ]
  },
  {
   "cell_type": "markdown",
   "id": "5382f1a9",
   "metadata": {},
   "source": [
    "    The WordCloud Highlight the words like peoplesoft,report,data,sql,etc.. which is important form resumes"
   ]
  },
  {
   "cell_type": "code",
   "execution_count": 47,
   "id": "17a38952",
   "metadata": {},
   "outputs": [
    {
     "data": {
      "text/plain": [
       "[                                              NC_text     Category\n",
       " 24  anubhav kumar singh work global competit envir...  Peoplesoft \n",
       " 25  profil summari year experi implement upgrad su...  Peoplesoft \n",
       " 26  peoplesoft databas administr gangareddi profes...  Peoplesoft \n",
       " 27  muraliexperi summari year experi work peopleso...  Peoplesoft \n",
       " 28  priyanka ramadoss/ mountpleas coonoorth nilgir...  Peoplesoft \n",
       " 29  profil summaryi overal year experi peoplesoft ...  Peoplesoft \n",
       " 30  peoplesoft administratorsrinivas.k experi summ...  Peoplesoft \n",
       " 31  peoplesoft adminvarkala vikascar objectivei to...  Peoplesoft \n",
       " 32  vinod akkala peoplesoft dba admin profession s...  Peoplesoft \n",
       " 33  peoplesoft admin/peoplesoft dbaganesh alladi c...  Peoplesoft \n",
       " 34  peoplesoft administr vivekanand sayana career ...  Peoplesoft \n",
       " 35  arun venu experi summari experi year month mul...  Peoplesoft \n",
       " 36  experi summari years- experi develop support m...  Peoplesoft \n",
       " 37  rahul ahuja -- -- -- -- -- -- -- -- -- -- -- -...  Peoplesoft \n",
       " 38  year experi peoplesoft applic enhanc implement...  Peoplesoft \n",
       " 39  year experi peoplesoft applic enhanc support u...  Peoplesoft \n",
       " 40  career object pursu peoplesoft execut role ove...  Peoplesoft \n",
       " 41  r ahm peoplesoft technic consult profession su...  Peoplesoft \n",
       " 42  tanna sujatha objectiveseek challeng role area...  Peoplesoft \n",
       " 43  c n c address manyata tech park nagavara banga...  Peoplesoft ,\n",
       "                                               NC_text  Category\n",
       " 0   name ravali p curriculum vita special comput s...  React JS\n",
       " 1   susovan bag seek challeng posit field scienc t...  React JS\n",
       " 2   kanumuru deepak reddycar objectiveto secur pos...  React JS\n",
       " 3   haripriya battina experi ui develop reactj jav...  React JS\n",
       " 4   kamalakar reddi link profession summari year e...  React JS\n",
       " 5   naveen sadhutitl softwar develop locat hyderab...  React JS\n",
       " 6   profilesearch opportun bring year experi softw...  React JS\n",
       " 7   pragnya pattnaik expertis around year experi u...  React JS\n",
       " 8   sri geethika prestig road number bandari layou...  React JS\n",
       " 9   thirupathamma ballasummari year experi react d...  React JS\n",
       " 10  maryala vinay reddyprofession summari year suc...  React JS\n",
       " 11  ui-developer/ react js develop name krishna pr...  React JS\n",
       " 12  ui-developer/ react js develop name krishna pr...  React JS\n",
       " 13  curriculum vitaei herebi declar above-ment par...  React JS\n",
       " 14  kotani durga prasadobjectiveaspir posit organ ...  React JS\n",
       " 15  venkatalakshmi pedireddysoftwar developerexper...  React JS\n",
       " 16  kambala sai surendra mandepeta summari project...  React JS\n",
       " 17  mareedu lokesh babuprofession overview around ...  React JS\n",
       " 18  mareedu lokesh babuprofession overview around ...  React JS\n",
       " 19  md khizaruddin rauf experi ⇨ current work pick...  React JS\n",
       " 20  name m. prabakaran titl ui develop profession ...  React JS\n",
       " 21  pranish sonon career summaryexperi year month ...  React JS\n",
       " 22  ranga gaganam year success experi phase softwa...  React JS\n",
       " 23  shaik abdul sharuk year experi wipro career ob...  React JS,\n",
       "                                               NC_text       Category\n",
       " 44  anil kumar maddukuri sql msbi develop summari ...  SQL Developer\n",
       " 45  aradhana tripathicurr locat gachibowli hyderab...  SQL Developer\n",
       " 46  buddha vamsi career objectivehav year experi d...  SQL Developer\n",
       " 47  kamballa pradeep synopsislook forward aspir ch...  SQL Developer\n",
       " 48   hyderabadnaz bashasql power bi develop summa...  SQL Developer\n",
       " 49  resumenam neeraj mishrahav year month experi o...  SQL Developer\n",
       " 50  sql developernam bandi prem saiwil work challe...  SQL Developer\n",
       " 51  sql server developerpriyanka l profession summ...  SQL Developer\n",
       " 52  sql server developerp syam kumar profession su...  SQL Developer\n",
       " 53  raju pavana kumariprofession summaryhav year p...  SQL Developer\n",
       " 54  resumeramalakshmi k career object profession o...  SQL Developer\n",
       " 55  name rameshcar object contribut organ provid o...  SQL Developer\n",
       " 56  career object reward opportun growth-ori compa...  SQL Developer\n",
       " 57  b. vinod kumarobjectivewil work challeng profe...  SQL Developer,\n",
       "                                               NC_text         Category\n",
       " 58  chinna subbarayudu mdob march nation indian pr...  workday resumes\n",
       " 59  name gopi krishna reddi profession summerywork...  workday resumes\n",
       " 60  hari krishna msummarya result orient professio...  workday resumes\n",
       " 61  harikrishna akula summari year experi around y...  workday resumes\n",
       " 62  hima.mendu career objectiveto continu grow kno...  workday resumes\n",
       " 63  g himaja career objectiveto work toward achiev...  workday resumes\n",
       " 64  name j. sumanth royal profession summaryhav to...  workday resumes\n",
       " 65  jyoti verma year experi workday function hcm c...  workday resumes\n",
       " 66  madeeswar profil summaryhav around year experi...  workday resumes\n",
       " 67  mooraboyina guravaiahworkday integr specialist...  workday resumes\n",
       " 68  name naresh babu cherukuriobjectiveto take res...  workday resumes\n",
       " 69  venkata saikrishna workday consultantprofssion...  workday resumes\n",
       " 70  year experi workday hcm technic consult workda...  workday resumes\n",
       " 71  rahul techno function consult profession summa...  workday resumes\n",
       " 72  ramesh workday hcm consult profession summarya...  workday resumes\n",
       " 73  shireesh balasani hcm consult profil summaryhc...  workday resumes\n",
       " 74  workday integr consultantnam sri krishna profe...  workday resumes\n",
       " 75  seek suitabl posit workday hcm techno function...  workday resumes\n",
       " 76  workday hcm fcmname kumar s.srole workday cons...  workday resumes\n",
       " 77  venkateswarlu.b workday consult year experi ye...  workday resumes\n",
       " 78  vinay kumar .vworkday function consultantexper...  workday resumes]"
      ]
     },
     "execution_count": 47,
     "metadata": {},
     "output_type": "execute_result"
    }
   ],
   "source": [
    "categories = np.sort(df['Category'].unique())\n",
    "data_categories = [df[df['Category'] == category].loc[:, ['NC_text', 'Category']] for category in categories]\n",
    "data_categories"
   ]
  },
  {
   "cell_type": "code",
   "execution_count": 48,
   "id": "7374f4a3",
   "metadata": {},
   "outputs": [
    {
     "data": {
      "image/png": "[encoded data removed]",
      "text/plain": [
       "<Figure size 864x432 with 1 Axes>"
      ]
     },
     "metadata": {
      "needs_background": "light"
     },
     "output_type": "display_data"
    }
   ],
   "source": [
    "\n",
    "df['Category'].value_counts().sort_index().plot(kind='bar', figsize=(12, 6))\n",
    "plt.show()"
   ]
  },
  {
   "cell_type": "markdown",
   "id": "1cb6c577",
   "metadata": {},
   "source": [
    "React Js has more REsumes compare ro other"
   ]
  },
  {
   "cell_type": "code",
   "execution_count": 49,
   "id": "629645a6",
   "metadata": {},
   "outputs": [
    {
     "data": {
      "image/png": "[encoded data removed]",
      "text/plain": [
       "<Figure size 1440x576 with 1 Axes>"
      ]
     },
     "metadata": {
      "needs_background": "light"
     },
     "output_type": "display_data"
    }
   ],
   "source": [
    "#get_top_n_words() returns the n-grams. n can be specified by user\n",
    "def get_top_n_words(corpus, n=None):\n",
    "    vec = CountVectorizer().fit(corpus)\n",
    "    bag_of_words = vec.transform(corpus)\n",
    "    sum_words = bag_of_words.sum(axis=0) \n",
    "    words_freq = [(word, sum_words[0, idx]) for word, idx in vec.vocabulary_.items()]\n",
    "    words_freq =sorted(words_freq, key = lambda x: x[1], reverse=True)\n",
    "    return words_freq[:n]\n",
    "common_words = get_top_n_words(df['NC_text'], 20)  #Will Take  n = 20\n",
    "#for word, freq in common_words:\n",
    "    #print(word, freq)\n",
    "df1 = pd.DataFrame(common_words, columns = ['CleanText' , 'count'])\n",
    "##Visualizing results\n",
    "#Barchart for top 10 nouns + verbs\n",
    "df1[0:20].plot.bar(x='CleanText', figsize=(20,8), title='Top 20 Unigrams With Most Frequency',color ='#7f7D9C')\n",
    "def addlabels(x,y):\n",
    "  for i in range(len(x)):\n",
    "    plt.text(i,y[i],y[i],ha = 'center')\n",
    "addlabels(df1['CleanText'],df1['count'])\n",
    "plt.show()"
   ]
  },
  {
   "cell_type": "code",
   "execution_count": 50,
   "id": "1032264c",
   "metadata": {},
   "outputs": [
    {
     "data": {
      "image/png": "[encoded data removed]",
      "text/plain": [
       "<Figure size 1440x576 with 1 Axes>"
      ]
     },
     "metadata": {
      "needs_background": "light"
     },
     "output_type": "display_data"
    }
   ],
   "source": [
    "def get_top_n_bigram(corpus, n=None):\n",
    "    vec = CountVectorizer(ngram_range=(2, 2), stop_words='english').fit(corpus)\n",
    "    bag_of_words = vec.transform(corpus)\n",
    "    sum_words = bag_of_words.sum(axis=0) \n",
    "    words_freq = [(word, sum_words[0, idx]) for word, idx in vec.vocabulary_.items()]\n",
    "    words_freq =sorted(words_freq, key = lambda x: x[1], reverse=True)\n",
    "    return words_freq[:n]\n",
    "common_words = get_top_n_bigram(df['NC_text'], 20)\n",
    "#for word, freq in common_words:\n",
    "    #print(word, freq)\n",
    "df2 = pd.DataFrame(common_words, columns = ['CleanText' , 'count'])\n",
    "##Visualizing results\n",
    "#Barchart for top 10 nouns + verbs\n",
    "df2[0:20].plot.bar(x='CleanText', figsize=(20,8), title='Top 20 Bigrams With Most Frequency',color ='#7f7D9C')\n",
    "#Adding Labels\n",
    "addlabels(df2['CleanText'],df2['count'])\n",
    "plt.show()"
   ]
  },
  {
   "cell_type": "code",
   "execution_count": 51,
   "id": "e77ce31d",
   "metadata": {},
   "outputs": [
    {
     "data": {
      "image/png": "[encoded data removed]",
      "text/plain": [
       "<Figure size 1440x576 with 1 Axes>"
      ]
     },
     "metadata": {
      "needs_background": "light"
     },
     "output_type": "display_data"
    }
   ],
   "source": [
    "def get_top_n_trigram(corpus, n=None):\n",
    "    vec = CountVectorizer(ngram_range=(3, 3), stop_words='english').fit(corpus)\n",
    "    bag_of_words = vec.transform(corpus)\n",
    "    sum_words = bag_of_words.sum(axis=0) \n",
    "    words_freq = [(word, sum_words[0, idx]) for word, idx in vec.vocabulary_.items()]\n",
    "    words_freq =sorted(words_freq, key = lambda x: x[1], reverse=True)\n",
    "    return words_freq[:n]\n",
    "common_words = get_top_n_trigram(df['NC_text'], 20)\n",
    "#for word, freq in common_words:\n",
    "    #print(word, freq)\n",
    "df3 = pd.DataFrame(common_words, columns = ['CleanText' , 'count'])\n",
    "##Visualizing results\n",
    "#Barchart for top 10 nouns + verbs\n",
    "df3[0:20].plot.bar(x='CleanText', figsize=(20,8), title='Top 20 Trigrams With Most Frequency',color ='#7f7D9C')\n",
    "#Adding Labels\n",
    "addlabels(df3['CleanText'],df3['count'])\n",
    "plt.show()"
   ]
  },
  {
   "cell_type": "code",
   "execution_count": 52,
   "id": "0ed34a10",
   "metadata": {},
   "outputs": [
    {
     "data": {
      "text/html": [
       "<div>\n",
       "<style scoped>\n",
       "    .dataframe tbody tr th:only-of-type {\n",
       "        vertical-align: middle;\n",
       "    }\n",
       "\n",
       "    .dataframe tbody tr th {\n",
       "        vertical-align: top;\n",
       "    }\n",
       "\n",
       "    .dataframe thead th {\n",
       "        text-align: right;\n",
       "    }\n",
       "</style>\n",
       "<table border=\"1\" class=\"dataframe\">\n",
       "  <thead>\n",
       "    <tr style=\"text-align: right;\">\n",
       "      <th></th>\n",
       "      <th>Resumes</th>\n",
       "      <th>Category</th>\n",
       "      <th>clean_text</th>\n",
       "      <th>NC_text</th>\n",
       "      <th>subjectivity</th>\n",
       "      <th>polarity</th>\n",
       "    </tr>\n",
       "  </thead>\n",
       "  <tbody>\n",
       "    <tr>\n",
       "      <th>0</th>\n",
       "      <td>name: ravali p \\n\\n                           ...</td>\n",
       "      <td>1</td>\n",
       "      <td>name ravali p                                 ...</td>\n",
       "      <td>name ravali p curriculum vita special comput s...</td>\n",
       "      <td>0.513957</td>\n",
       "      <td>0.565189</td>\n",
       "    </tr>\n",
       "    <tr>\n",
       "      <th>1</th>\n",
       "      <td>\\nsusovan  bag   \\nseeking  a  challenging  ...</td>\n",
       "      <td>1</td>\n",
       "      <td>susovan  bag   seeking  a  challenging  posi...</td>\n",
       "      <td>susovan bag seek challeng posit field scienc t...</td>\n",
       "      <td>0.415476</td>\n",
       "      <td>0.419048</td>\n",
       "    </tr>\n",
       "    <tr>\n",
       "      <th>2</th>\n",
       "      <td>kanumuru deepak reddy\\n\\n\\n\\ncareer objective:...</td>\n",
       "      <td>1</td>\n",
       "      <td>kanumuru deepak reddycareer objectiveto secure...</td>\n",
       "      <td>kanumuru deepak reddycar objectiveto secur pos...</td>\n",
       "      <td>0.535119</td>\n",
       "      <td>0.090604</td>\n",
       "    </tr>\n",
       "    <tr>\n",
       "      <th>3</th>\n",
       "      <td>haripriya battina \\nexperience as ui developer...</td>\n",
       "      <td>1</td>\n",
       "      <td>haripriya battina experience as ui developer i...</td>\n",
       "      <td>haripriya battina experi ui develop reactj jav...</td>\n",
       "      <td>0.428307</td>\n",
       "      <td>0.274868</td>\n",
       "    </tr>\n",
       "    <tr>\n",
       "      <th>4</th>\n",
       "      <td>kamalakar reddy. a \\nlinked in: https://www.li...</td>\n",
       "      <td>1</td>\n",
       "      <td>kamalakar reddy. a linked in  professional sum...</td>\n",
       "      <td>kamalakar reddi link profession summari year e...</td>\n",
       "      <td>0.278788</td>\n",
       "      <td>0.245076</td>\n",
       "    </tr>\n",
       "    <tr>\n",
       "      <th>...</th>\n",
       "      <td>...</td>\n",
       "      <td>...</td>\n",
       "      <td>...</td>\n",
       "      <td>...</td>\n",
       "      <td>...</td>\n",
       "      <td>...</td>\n",
       "    </tr>\n",
       "    <tr>\n",
       "      <th>74</th>\n",
       "      <td>\\tworkday integration consultant\\n\\nname      ...</td>\n",
       "      <td>3</td>\n",
       "      <td>\\tworkday integration consultantname          ...</td>\n",
       "      <td>workday integr consultantnam sri krishna profe...</td>\n",
       "      <td>0.346212</td>\n",
       "      <td>0.174459</td>\n",
       "    </tr>\n",
       "    <tr>\n",
       "      <th>75</th>\n",
       "      <td>seeking suitable positions in workday hcm  as ...</td>\n",
       "      <td>3</td>\n",
       "      <td>seeking suitable positions in workday hcm  as ...</td>\n",
       "      <td>seek suitabl posit workday hcm techno function...</td>\n",
       "      <td>0.455195</td>\n",
       "      <td>0.153166</td>\n",
       "    </tr>\n",
       "    <tr>\n",
       "      <th>76</th>\n",
       "      <td>\\nworkday | hcm | fcm\\nname \\t\\t: kumar s.s\\nr...</td>\n",
       "      <td>3</td>\n",
       "      <td>workday | hcm | fcmname \\t\\t kumar s.srole \\t\\...</td>\n",
       "      <td>workday hcm fcmname kumar s.srole workday cons...</td>\n",
       "      <td>0.630303</td>\n",
       "      <td>-0.136742</td>\n",
       "    </tr>\n",
       "    <tr>\n",
       "      <th>77</th>\n",
       "      <td>venkateswarlu.b\\t\\t\\t\\t\\t\\t\\t\\tworkday consult...</td>\n",
       "      <td>3</td>\n",
       "      <td>venkateswarlu.b\\t\\t\\t\\t\\t\\t\\t\\tworkday consult...</td>\n",
       "      <td>venkateswarlu.b workday consult year experi ye...</td>\n",
       "      <td>0.542593</td>\n",
       "      <td>0.287037</td>\n",
       "    </tr>\n",
       "    <tr>\n",
       "      <th>78</th>\n",
       "      <td>...</td>\n",
       "      <td>3</td>\n",
       "      <td>...</td>\n",
       "      <td>vinay kumar .vworkday function consultantexper...</td>\n",
       "      <td>0.663636</td>\n",
       "      <td>-0.087576</td>\n",
       "    </tr>\n",
       "  </tbody>\n",
       "</table>\n",
       "<p>79 rows × 6 columns</p>\n",
       "</div>"
      ],
      "text/plain": [
       "                                              Resumes  Category  \\\n",
       "0   name: ravali p \\n\\n                           ...         1   \n",
       "1     \\nsusovan  bag   \\nseeking  a  challenging  ...         1   \n",
       "2   kanumuru deepak reddy\\n\\n\\n\\ncareer objective:...         1   \n",
       "3   haripriya battina \\nexperience as ui developer...         1   \n",
       "4   kamalakar reddy. a \\nlinked in: https://www.li...         1   \n",
       "..                                                ...       ...   \n",
       "74  \\tworkday integration consultant\\n\\nname      ...         3   \n",
       "75  seeking suitable positions in workday hcm  as ...         3   \n",
       "76  \\nworkday | hcm | fcm\\nname \\t\\t: kumar s.s\\nr...         3   \n",
       "77  venkateswarlu.b\\t\\t\\t\\t\\t\\t\\t\\tworkday consult...         3   \n",
       "78                                                ...         3   \n",
       "\n",
       "                                           clean_text  \\\n",
       "0   name ravali p                                 ...   \n",
       "1     susovan  bag   seeking  a  challenging  posi...   \n",
       "2   kanumuru deepak reddycareer objectiveto secure...   \n",
       "3   haripriya battina experience as ui developer i...   \n",
       "4   kamalakar reddy. a linked in  professional sum...   \n",
       "..                                                ...   \n",
       "74  \\tworkday integration consultantname          ...   \n",
       "75  seeking suitable positions in workday hcm  as ...   \n",
       "76  workday | hcm | fcmname \\t\\t kumar s.srole \\t\\...   \n",
       "77  venkateswarlu.b\\t\\t\\t\\t\\t\\t\\t\\tworkday consult...   \n",
       "78                                                ...   \n",
       "\n",
       "                                              NC_text  subjectivity  polarity  \n",
       "0   name ravali p curriculum vita special comput s...      0.513957  0.565189  \n",
       "1   susovan bag seek challeng posit field scienc t...      0.415476  0.419048  \n",
       "2   kanumuru deepak reddycar objectiveto secur pos...      0.535119  0.090604  \n",
       "3   haripriya battina experi ui develop reactj jav...      0.428307  0.274868  \n",
       "4   kamalakar reddi link profession summari year e...      0.278788  0.245076  \n",
       "..                                                ...           ...       ...  \n",
       "74  workday integr consultantnam sri krishna profe...      0.346212  0.174459  \n",
       "75  seek suitabl posit workday hcm techno function...      0.455195  0.153166  \n",
       "76  workday hcm fcmname kumar s.srole workday cons...      0.630303 -0.136742  \n",
       "77  venkateswarlu.b workday consult year experi ye...      0.542593  0.287037  \n",
       "78  vinay kumar .vworkday function consultantexper...      0.663636 -0.087576  \n",
       "\n",
       "[79 rows x 6 columns]"
      ]
     },
     "execution_count": 52,
     "metadata": {},
     "output_type": "execute_result"
    }
   ],
   "source": [
    "#encode data\n",
    "label_encoder = preprocessing.LabelEncoder()\n",
    "df['Category']= label_encoder.fit_transform(df['Category']) \n",
    "df"
   ]
  },
  {
   "cell_type": "code",
   "execution_count": 53,
   "id": "06889d15",
   "metadata": {},
   "outputs": [
    {
     "data": {
      "text/plain": [
       "1    24\n",
       "3    21\n",
       "0    20\n",
       "2    14\n",
       "Name: Category, dtype: int64"
      ]
     },
     "execution_count": 53,
     "metadata": {},
     "output_type": "execute_result"
    }
   ],
   "source": [
    "df['Category'].value_counts()"
   ]
  },
  {
   "cell_type": "code",
   "execution_count": 54,
   "id": "081550f2",
   "metadata": {},
   "outputs": [],
   "source": [
    "x = df['NC_text'].values\n",
    "y = df['Category'].values"
   ]
  },
  {
   "cell_type": "code",
   "execution_count": 55,
   "id": "023dbe29",
   "metadata": {},
   "outputs": [],
   "source": [
    "word_vectorizer = TfidfVectorizer(sublinear_tf=True,stop_words='english')\n",
    "word_vectorizer.fit(x)\n",
    "WordFeatures = word_vectorizer.transform(x)"
   ]
  },
  {
   "cell_type": "code",
   "execution_count": 56,
   "id": "99a0a7e9",
   "metadata": {},
   "outputs": [
    {
     "data": {
      "text/plain": [
       "((63, 3967), (16, 3967))"
      ]
     },
     "execution_count": 56,
     "metadata": {},
     "output_type": "execute_result"
    }
   ],
   "source": [
    "from sklearn.model_selection import train_test_split\n",
    "x_train, x_test, y_train, y_test = train_test_split(WordFeatures,y,random_state=45, test_size=0.2)\n",
    "x_train.shape, x_test.shape"
   ]
  },
  {
   "cell_type": "markdown",
   "id": "bad43156",
   "metadata": {},
   "source": [
    "# Model Buliding"
   ]
  },
  {
   "cell_type": "markdown",
   "id": "a0676a7c",
   "metadata": {},
   "source": [
    "### Models we will use:\n",
    "    Logistic Classification\n",
    "    \n",
    "    Random Forest Regressor\n",
    "\n",
    "    Bagging classifier\n",
    "\n",
    "    K-Nearest Neighbours(KNN)\n",
    "    \n",
    "    Support Vector Machines\n",
    "\n",
    "    AdaBoost Classification\n",
    "\n",
    "    Naive Bayes\n",
    "    \n",
    "    Xtreme Gradient Boosting Classifier(XGBoost)\n",
    "    \n",
    "    Gradient Boosting Classifier\t\n",
    "    \n",
    "    Light Gradient Boosting Classifier(LGBoost)"
   ]
  },
  {
   "cell_type": "markdown",
   "id": "c6f4bfe7",
   "metadata": {},
   "source": [
    "## 1) Logistic Classification"
   ]
  },
  {
   "cell_type": "code",
   "execution_count": 57,
   "id": "95f92afa",
   "metadata": {},
   "outputs": [],
   "source": [
    "#Logistic regression and fit the model\n",
    "classifier_lr = LogisticRegression(random_state=42)\n",
    "classifier_lr.fit(x_train,y_train)\n",
    "#Predict for X dataset\n",
    "y_pred_lr = classifier_lr.predict(x_test)"
   ]
  },
  {
   "cell_type": "code",
   "execution_count": 58,
   "id": "e0a811d7",
   "metadata": {},
   "outputs": [
    {
     "data": {
      "text/plain": [
       "array([[4, 0, 0, 0],\n",
       "       [0, 7, 0, 0],\n",
       "       [0, 0, 2, 0],\n",
       "       [0, 0, 0, 3]], dtype=int64)"
      ]
     },
     "execution_count": 58,
     "metadata": {},
     "output_type": "execute_result"
    }
   ],
   "source": [
    "# Confusion Matrix for the model accuracy\n",
    "confusion_matrix_lr = confusion_matrix(y_test, y_pred_lr)\n",
    "confusion_matrix_lr"
   ]
  },
  {
   "cell_type": "code",
   "execution_count": 59,
   "id": "48658ffd",
   "metadata": {},
   "outputs": [
    {
     "name": "stdout",
     "output_type": "stream",
     "text": [
      "              precision    recall  f1-score   support\n",
      "\n",
      "           0       1.00      1.00      1.00         4\n",
      "           1       1.00      1.00      1.00         7\n",
      "           2       1.00      1.00      1.00         2\n",
      "           3       1.00      1.00      1.00         3\n",
      "\n",
      "    accuracy                           1.00        16\n",
      "   macro avg       1.00      1.00      1.00        16\n",
      "weighted avg       1.00      1.00      1.00        16\n",
      "\n"
     ]
    }
   ],
   "source": [
    "#Classification Report \n",
    "print (classification_report(y_test,y_pred_lr))"
   ]
  },
  {
   "cell_type": "code",
   "execution_count": 60,
   "id": "a62d921f",
   "metadata": {},
   "outputs": [
    {
     "name": "stdout",
     "output_type": "stream",
     "text": [
      "Accuracy Score  :  1.0\n",
      "Precision Score :  1.0\n",
      "Recall Score    :  1.0\n",
      "f1-Score        :  1.0\n"
     ]
    }
   ],
   "source": [
    "accuracy_1 = (accuracy_score(y_test,y_pred_lr))\n",
    "precision_1 = (precision_score(y_test,y_pred_lr,average = 'weighted'))\n",
    "recall_1 = (recall_score(y_test,y_pred_lr, average = 'weighted'))\n",
    "f1_1 = (f1_score(y_test,y_pred_lr, average = 'weighted'))\n",
    "print('Accuracy Score  : ', accuracy_1)\n",
    "print('Precision Score : ', precision_1)\n",
    "print('Recall Score    : ', recall_1)\n",
    "print('f1-Score        : ', f1_1)"
   ]
  },
  {
   "cell_type": "markdown",
   "id": "bb81dd70",
   "metadata": {},
   "source": [
    "## 2) Random Forest Regressor"
   ]
  },
  {
   "cell_type": "code",
   "execution_count": 61,
   "id": "2e847cf0",
   "metadata": {},
   "outputs": [],
   "source": [
    "kfold=KFold(n_splits=5,random_state=72,shuffle=True)"
   ]
  },
  {
   "cell_type": "code",
   "execution_count": 62,
   "id": "a5c599fd",
   "metadata": {},
   "outputs": [],
   "source": [
    "#Logistic regression and fit the model\n",
    "classifier_rf = RandomForestClassifier(random_state=42)\n",
    "classifier_rf.fit(x_train,y_train)\n",
    "#Predict for X dataset\n",
    "y_pred_rf = classifier_rf.predict(x_test)"
   ]
  },
  {
   "cell_type": "code",
   "execution_count": 63,
   "id": "02f0d56a",
   "metadata": {},
   "outputs": [
    {
     "data": {
      "text/plain": [
       "array([[4, 0, 0, 0],\n",
       "       [0, 7, 0, 0],\n",
       "       [0, 0, 2, 0],\n",
       "       [0, 0, 0, 3]], dtype=int64)"
      ]
     },
     "execution_count": 63,
     "metadata": {},
     "output_type": "execute_result"
    }
   ],
   "source": [
    "# Confusion Matrix for the model accuracy\n",
    "confusion_matrix_rf = confusion_matrix(y_test, y_pred_rf)\n",
    "confusion_matrix_rf"
   ]
  },
  {
   "cell_type": "code",
   "execution_count": 64,
   "id": "68f3dc1d",
   "metadata": {},
   "outputs": [
    {
     "name": "stdout",
     "output_type": "stream",
     "text": [
      "              precision    recall  f1-score   support\n",
      "\n",
      "           0       1.00      1.00      1.00         4\n",
      "           1       1.00      1.00      1.00         7\n",
      "           2       1.00      1.00      1.00         2\n",
      "           3       1.00      1.00      1.00         3\n",
      "\n",
      "    accuracy                           1.00        16\n",
      "   macro avg       1.00      1.00      1.00        16\n",
      "weighted avg       1.00      1.00      1.00        16\n",
      "\n"
     ]
    }
   ],
   "source": [
    "#Classification Report \n",
    "print (classification_report(y_test,y_pred_rf))"
   ]
  },
  {
   "cell_type": "code",
   "execution_count": 65,
   "id": "81628f4f",
   "metadata": {},
   "outputs": [
    {
     "name": "stdout",
     "output_type": "stream",
     "text": [
      "Accuracy Score  :  1.0\n",
      "Precision Score :  1.0\n",
      "Recall Score    :  1.0\n",
      "f1-Score        :  1.0\n"
     ]
    }
   ],
   "source": [
    "accuracy_2 = (accuracy_score(y_test,y_pred_rf))\n",
    "precision_2 = (precision_score(y_test,y_pred_rf,average = 'weighted'))\n",
    "recall_2 = (recall_score(y_test,y_pred_rf, average = 'weighted'))\n",
    "f1_2 = (f1_score(y_test,y_pred_rf, average = 'weighted'))\n",
    "print('Accuracy Score  : ', accuracy_2)\n",
    "print('Precision Score : ', precision_2)\n",
    "print('Recall Score    : ', recall_2)\n",
    "print('f1-Score        : ', f1_2)"
   ]
  },
  {
   "cell_type": "markdown",
   "id": "d7425140",
   "metadata": {},
   "source": [
    "## 3) Bagging classifier"
   ]
  },
  {
   "cell_type": "code",
   "execution_count": 66,
   "id": "f9dc89cd",
   "metadata": {},
   "outputs": [],
   "source": [
    "bag_c=BaggingClassifier()\n",
    "bag_c.fit(x_train,y_train)\n",
    "y_pred_bag = bag_c.predict(x_test)"
   ]
  },
  {
   "cell_type": "code",
   "execution_count": 67,
   "id": "74f74d32",
   "metadata": {},
   "outputs": [
    {
     "data": {
      "text/plain": [
       "array([[4, 0, 0, 0],\n",
       "       [0, 7, 0, 0],\n",
       "       [0, 0, 2, 0],\n",
       "       [0, 0, 0, 3]], dtype=int64)"
      ]
     },
     "execution_count": 67,
     "metadata": {},
     "output_type": "execute_result"
    }
   ],
   "source": [
    "# Confusion Matrix for the model accuracy\n",
    "confusion_matrix_bag = confusion_matrix(y_test, y_pred_bag)\n",
    "confusion_matrix_bag"
   ]
  },
  {
   "cell_type": "code",
   "execution_count": 68,
   "id": "89ca9438",
   "metadata": {},
   "outputs": [
    {
     "name": "stdout",
     "output_type": "stream",
     "text": [
      "              precision    recall  f1-score   support\n",
      "\n",
      "           0       1.00      1.00      1.00         4\n",
      "           1       1.00      1.00      1.00         7\n",
      "           2       1.00      1.00      1.00         2\n",
      "           3       1.00      1.00      1.00         3\n",
      "\n",
      "    accuracy                           1.00        16\n",
      "   macro avg       1.00      1.00      1.00        16\n",
      "weighted avg       1.00      1.00      1.00        16\n",
      "\n"
     ]
    }
   ],
   "source": [
    "#Classification Report \n",
    "print (classification_report(y_test,y_pred_bag))"
   ]
  },
  {
   "cell_type": "code",
   "execution_count": 69,
   "id": "704088de",
   "metadata": {},
   "outputs": [
    {
     "name": "stdout",
     "output_type": "stream",
     "text": [
      "Accuracy Score  :  1.0\n",
      "Precision Score :  1.0\n",
      "Recall Score    :  1.0\n",
      "f1-Score        :  1.0\n"
     ]
    }
   ],
   "source": [
    "accuracy_3 = (accuracy_score(y_test,y_pred_bag))\n",
    "precision_3 = (precision_score(y_test,y_pred_bag,average = 'weighted'))\n",
    "recall_3 = (recall_score(y_test,y_pred_bag,average = 'weighted'))\n",
    "f1_3 = (f1_score(y_test,y_pred_bag,average = 'weighted'))\n",
    "print('Accuracy Score  : ', accuracy_3)\n",
    "print('Precision Score : ', precision_3)\n",
    "print('Recall Score    : ', recall_3)\n",
    "print('f1-Score        : ', f1_3)"
   ]
  },
  {
   "cell_type": "markdown",
   "id": "79547817",
   "metadata": {},
   "source": [
    "## 4) K-Nearest Neighbours(KNN)\n",
    "\n"
   ]
  },
  {
   "cell_type": "code",
   "execution_count": 70,
   "id": "e2d3335e",
   "metadata": {},
   "outputs": [],
   "source": [
    "model_knn = KNeighborsClassifier(n_neighbors=2)\n",
    "model_knn.fit(x_train,y_train)\n",
    "y_pred_knn = model_knn.predict(x_test)"
   ]
  },
  {
   "cell_type": "code",
   "execution_count": 71,
   "id": "b2cebf56",
   "metadata": {},
   "outputs": [
    {
     "data": {
      "text/plain": [
       "array([[4, 0, 0, 0],\n",
       "       [0, 7, 0, 0],\n",
       "       [0, 0, 2, 0],\n",
       "       [0, 0, 0, 3]], dtype=int64)"
      ]
     },
     "execution_count": 71,
     "metadata": {},
     "output_type": "execute_result"
    }
   ],
   "source": [
    "# Confusion Matrix for the model accuracy\n",
    "confusion_matrix_knn = confusion_matrix(y_test, y_pred_knn)\n",
    "confusion_matrix_knn"
   ]
  },
  {
   "cell_type": "code",
   "execution_count": 72,
   "id": "82ab99f6",
   "metadata": {},
   "outputs": [
    {
     "name": "stdout",
     "output_type": "stream",
     "text": [
      "              precision    recall  f1-score   support\n",
      "\n",
      "           0       1.00      1.00      1.00         4\n",
      "           1       1.00      1.00      1.00         7\n",
      "           2       1.00      1.00      1.00         2\n",
      "           3       1.00      1.00      1.00         3\n",
      "\n",
      "    accuracy                           1.00        16\n",
      "   macro avg       1.00      1.00      1.00        16\n",
      "weighted avg       1.00      1.00      1.00        16\n",
      "\n"
     ]
    }
   ],
   "source": [
    "#Classification Report \n",
    "print (classification_report(y_test,y_pred_knn))"
   ]
  },
  {
   "cell_type": "code",
   "execution_count": 73,
   "id": "9f718803",
   "metadata": {},
   "outputs": [
    {
     "name": "stdout",
     "output_type": "stream",
     "text": [
      "Accuracy Score  :  1.0\n",
      "Precision Score :  1.0\n",
      "Recall Score    :  1.0\n",
      "f1-Score        :  1.0\n"
     ]
    }
   ],
   "source": [
    "accuracy_4 = (accuracy_score(y_test,y_pred_knn))\n",
    "precision_4 = (precision_score(y_test,y_pred_knn,average = 'weighted'))\n",
    "recall_4 = (recall_score(y_test,y_pred_knn,average = 'weighted'))\n",
    "f1_4 = (f1_score(y_test,y_pred_knn,average = 'weighted'))\n",
    "print('Accuracy Score  : ', accuracy_4)\n",
    "print('Precision Score : ', precision_4)\n",
    "print('Recall Score    : ', recall_4)\n",
    "print('f1-Score        : ', f1_4)"
   ]
  },
  {
   "cell_type": "markdown",
   "id": "5513107a",
   "metadata": {},
   "source": [
    "## 5) Support Vector Machines"
   ]
  },
  {
   "cell_type": "code",
   "execution_count": 74,
   "id": "451b3086",
   "metadata": {},
   "outputs": [],
   "source": [
    "model_linear = SVC(kernel = \"poly\")\n",
    "model_linear.fit(x_train,y_train)\n",
    "y_pred_svm = model_linear.predict(x_test)\n"
   ]
  },
  {
   "cell_type": "code",
   "execution_count": 75,
   "id": "f80b0489",
   "metadata": {},
   "outputs": [
    {
     "data": {
      "text/plain": [
       "array([[4, 0, 0, 0],\n",
       "       [0, 7, 0, 0],\n",
       "       [0, 1, 1, 0],\n",
       "       [0, 0, 0, 3]], dtype=int64)"
      ]
     },
     "execution_count": 75,
     "metadata": {},
     "output_type": "execute_result"
    }
   ],
   "source": [
    "# Confusion Matrix for the model accuracy\n",
    "confusion_matrix_svm = confusion_matrix(y_test, y_pred_svm)\n",
    "confusion_matrix_svm"
   ]
  },
  {
   "cell_type": "code",
   "execution_count": 76,
   "id": "0e4d1737",
   "metadata": {},
   "outputs": [
    {
     "name": "stdout",
     "output_type": "stream",
     "text": [
      "              precision    recall  f1-score   support\n",
      "\n",
      "           0       1.00      1.00      1.00         4\n",
      "           1       0.88      1.00      0.93         7\n",
      "           2       1.00      0.50      0.67         2\n",
      "           3       1.00      1.00      1.00         3\n",
      "\n",
      "    accuracy                           0.94        16\n",
      "   macro avg       0.97      0.88      0.90        16\n",
      "weighted avg       0.95      0.94      0.93        16\n",
      "\n"
     ]
    }
   ],
   "source": [
    "#Classification Report \n",
    "print (classification_report(y_test,y_pred_svm))"
   ]
  },
  {
   "cell_type": "code",
   "execution_count": 77,
   "id": "fe2e3592",
   "metadata": {},
   "outputs": [
    {
     "name": "stdout",
     "output_type": "stream",
     "text": [
      "Accuracy Score  :  0.9375\n",
      "Precision Score :  0.9453\n",
      "Recall Score    :  0.9375\n",
      "f1-Score        :  0.9292\n"
     ]
    }
   ],
   "source": [
    "accuracy_5 = (accuracy_score(y_test,y_pred_svm))\n",
    "precision_5 = round(precision_score(y_test,y_pred_svm,average = 'weighted'),4)\n",
    "recall_5 = (recall_score(y_test,y_pred_svm,average = 'weighted'))\n",
    "f1_5 = round(f1_score(y_test,y_pred_svm,average = 'weighted'),4)\n",
    "print('Accuracy Score  : ', accuracy_5)\n",
    "print('Precision Score : ', precision_5)\n",
    "print('Recall Score    : ', recall_5)\n",
    "print('f1-Score        : ', f1_5)"
   ]
  },
  {
   "cell_type": "markdown",
   "id": "7494676e",
   "metadata": {},
   "source": [
    "\n",
    "## 6) AdaBoost Classification\n",
    "\n"
   ]
  },
  {
   "cell_type": "code",
   "execution_count": 78,
   "id": "e4da8718",
   "metadata": {},
   "outputs": [],
   "source": [
    "model_ab= AdaBoostClassifier(n_estimators=60, random_state=8)    \n",
    "model_ab.fit(x_train,y_train,sample_weight=60)\n",
    "y_pred_ab = model_ab.predict(x_test)\n"
   ]
  },
  {
   "cell_type": "code",
   "execution_count": 79,
   "id": "cb6c8df7",
   "metadata": {},
   "outputs": [
    {
     "data": {
      "text/plain": [
       "array([[0, 4, 0, 0],\n",
       "       [0, 7, 0, 0],\n",
       "       [0, 0, 2, 0],\n",
       "       [0, 0, 0, 3]], dtype=int64)"
      ]
     },
     "execution_count": 79,
     "metadata": {},
     "output_type": "execute_result"
    }
   ],
   "source": [
    "# Confusion Matrix for the model accuracy\n",
    "confusion_matrix_ab = confusion_matrix(y_test, y_pred_ab)\n",
    "confusion_matrix_ab"
   ]
  },
  {
   "cell_type": "code",
   "execution_count": 80,
   "id": "0a6bcb70",
   "metadata": {},
   "outputs": [
    {
     "name": "stdout",
     "output_type": "stream",
     "text": [
      "              precision    recall  f1-score   support\n",
      "\n",
      "           0       0.00      0.00      0.00         4\n",
      "           1       0.64      1.00      0.78         7\n",
      "           2       1.00      1.00      1.00         2\n",
      "           3       1.00      1.00      1.00         3\n",
      "\n",
      "    accuracy                           0.75        16\n",
      "   macro avg       0.66      0.75      0.69        16\n",
      "weighted avg       0.59      0.75      0.65        16\n",
      "\n"
     ]
    }
   ],
   "source": [
    "#Classification Report \n",
    "print (classification_report(y_test,y_pred_ab))"
   ]
  },
  {
   "cell_type": "code",
   "execution_count": 81,
   "id": "ac1d8b4a",
   "metadata": {},
   "outputs": [
    {
     "name": "stdout",
     "output_type": "stream",
     "text": [
      "Accuracy Score  :  0.75\n",
      "Precision Score :  0.5909\n",
      "Recall Score    :  0.75\n",
      "f1-Score        :  0.6528\n"
     ]
    }
   ],
   "source": [
    "accuracy_6 = (accuracy_score(y_test,y_pred_ab))\n",
    "precision_6 = round(precision_score(y_test,y_pred_ab,average = 'weighted'),4)\n",
    "recall_6 = (recall_score(y_test,y_pred_ab,average = 'weighted'))\n",
    "f1_6 = round(f1_score(y_test,y_pred_ab,average = 'weighted'),4)\n",
    "print('Accuracy Score  : ', accuracy_6)\n",
    "print('Precision Score : ', precision_6)\n",
    "print('Recall Score    : ', recall_6)\n",
    "print('f1-Score        : ', f1_6)"
   ]
  },
  {
   "cell_type": "markdown",
   "id": "60f6aa80",
   "metadata": {},
   "source": [
    "## 7) Naive Bayes"
   ]
  },
  {
   "cell_type": "code",
   "execution_count": 82,
   "id": "a0b7a291",
   "metadata": {},
   "outputs": [],
   "source": [
    "from sklearn.naive_bayes import MultinomialNB\n",
    "nb=MultinomialNB()\n",
    "nb.fit(x_train,y_train)\n",
    "y_pred_naive = nb.predict(x_test)\n"
   ]
  },
  {
   "cell_type": "code",
   "execution_count": 83,
   "id": "a57af371",
   "metadata": {},
   "outputs": [
    {
     "data": {
      "text/plain": [
       "array([[4, 0, 0, 0],\n",
       "       [0, 7, 0, 0],\n",
       "       [0, 0, 2, 0],\n",
       "       [0, 0, 0, 3]], dtype=int64)"
      ]
     },
     "execution_count": 83,
     "metadata": {},
     "output_type": "execute_result"
    }
   ],
   "source": [
    "# Confusion Matrix for the model accuracy\n",
    "confusion_matrix_naive = confusion_matrix(y_test, y_pred_naive)\n",
    "confusion_matrix_naive"
   ]
  },
  {
   "cell_type": "code",
   "execution_count": 84,
   "id": "3c38ee65",
   "metadata": {},
   "outputs": [
    {
     "name": "stdout",
     "output_type": "stream",
     "text": [
      "              precision    recall  f1-score   support\n",
      "\n",
      "           0       1.00      1.00      1.00         4\n",
      "           1       1.00      1.00      1.00         7\n",
      "           2       1.00      1.00      1.00         2\n",
      "           3       1.00      1.00      1.00         3\n",
      "\n",
      "    accuracy                           1.00        16\n",
      "   macro avg       1.00      1.00      1.00        16\n",
      "weighted avg       1.00      1.00      1.00        16\n",
      "\n"
     ]
    }
   ],
   "source": [
    "#Classification Report \n",
    "print (classification_report(y_test,y_pred_naive))\n"
   ]
  },
  {
   "cell_type": "code",
   "execution_count": 85,
   "id": "ab85c3be",
   "metadata": {},
   "outputs": [
    {
     "name": "stdout",
     "output_type": "stream",
     "text": [
      "Accuracy Score  :  1.0\n",
      "Precision Score :  1.0\n",
      "Recall Score    :  1.0\n",
      "f1-Score        :  1.0\n"
     ]
    }
   ],
   "source": [
    "accuracy_7 = (accuracy_score(y_test,y_pred_naive))\n",
    "precision_7 = round (precision_score(y_test,y_pred_naive,average = 'weighted'),4)\n",
    "recall_7 = (recall_score(y_test,y_pred_naive,average = 'weighted'))\n",
    "f1_7 = round(f1_score(y_test,y_pred_naive,average = 'weighted'),4)\n",
    "print('Accuracy Score  : ', accuracy_7)\n",
    "print('Precision Score : ', precision_7)\n",
    "print('Recall Score    : ', recall_7)\n",
    "print('f1-Score        : ', f1_7)"
   ]
  },
  {
   "cell_type": "markdown",
   "id": "2846da0e",
   "metadata": {},
   "source": [
    "## 8) Xtreme Gradient Boosting Classifier(XGBoost)"
   ]
  },
  {
   "cell_type": "code",
   "execution_count": 86,
   "id": "57e1e0c2",
   "metadata": {},
   "outputs": [],
   "source": [
    "# fit model no training data\n",
    "model_xg = XGBClassifier(n_estimators=10,gamma = 0.6)\n",
    "model_xg.fit(x_train, y_train)\n",
    "y_pred_XGB = model_xg.predict(x_test)"
   ]
  },
  {
   "cell_type": "code",
   "execution_count": 87,
   "id": "bd5470cb",
   "metadata": {},
   "outputs": [
    {
     "data": {
      "text/plain": [
       "array([[4, 0, 0, 0],\n",
       "       [0, 7, 0, 0],\n",
       "       [0, 0, 2, 0],\n",
       "       [0, 0, 0, 3]], dtype=int64)"
      ]
     },
     "execution_count": 87,
     "metadata": {},
     "output_type": "execute_result"
    }
   ],
   "source": [
    "# Confusion Matrix for the model accuracy\n",
    "confusion_matrix_XGB = confusion_matrix(y_test, y_pred_naive)\n",
    "confusion_matrix_XGB"
   ]
  },
  {
   "cell_type": "code",
   "execution_count": 88,
   "id": "12f432ae",
   "metadata": {},
   "outputs": [
    {
     "name": "stdout",
     "output_type": "stream",
     "text": [
      "              precision    recall  f1-score   support\n",
      "\n",
      "           0       1.00      1.00      1.00         4\n",
      "           1       1.00      1.00      1.00         7\n",
      "           2       1.00      1.00      1.00         2\n",
      "           3       1.00      1.00      1.00         3\n",
      "\n",
      "    accuracy                           1.00        16\n",
      "   macro avg       1.00      1.00      1.00        16\n",
      "weighted avg       1.00      1.00      1.00        16\n",
      "\n"
     ]
    }
   ],
   "source": [
    "#Classification Report \n",
    "print (classification_report(y_test,y_pred_XGB))"
   ]
  },
  {
   "cell_type": "code",
   "execution_count": 89,
   "id": "5420d7a1",
   "metadata": {},
   "outputs": [
    {
     "name": "stdout",
     "output_type": "stream",
     "text": [
      "Accuracy Score  :  1.0\n",
      "Precision Score :  1.0\n",
      "Recall Score    :  1.0\n",
      "f1-Score        :  1.0\n"
     ]
    }
   ],
   "source": [
    "accuracy_8 = (accuracy_score(y_test,y_pred_XGB))\n",
    "precision_8 = round(precision_score(y_test,y_pred_XGB,average = 'weighted'),4)\n",
    "recall_8 = (recall_score(y_test,y_pred_XGB,average = 'weighted'))\n",
    "f1_8 = round(f1_score(y_test,y_pred_XGB,average = 'weighted'),4)\n",
    "print('Accuracy Score  : ', accuracy_8)\n",
    "print('Precision Score : ', precision_8)\n",
    "print('Recall Score    : ', recall_8)\n",
    "print('f1-Score        : ', f1_8)"
   ]
  },
  {
   "cell_type": "markdown",
   "id": "5e702daf",
   "metadata": {},
   "source": [
    "## 9) Gradient Boosting Classifier    \n"
   ]
  },
  {
   "cell_type": "code",
   "execution_count": 90,
   "id": "1b199722",
   "metadata": {},
   "outputs": [],
   "source": [
    "model_gb = GradientBoostingClassifier()\n",
    "model_gb.fit(x_train,y_train)\n",
    "y_pred_gb = model_gb.predict(x_test)"
   ]
  },
  {
   "cell_type": "code",
   "execution_count": 91,
   "id": "a88e8dd0",
   "metadata": {},
   "outputs": [
    {
     "data": {
      "text/plain": [
       "array([[4, 0, 0, 0],\n",
       "       [0, 6, 1, 0],\n",
       "       [0, 0, 2, 0],\n",
       "       [0, 0, 0, 3]], dtype=int64)"
      ]
     },
     "execution_count": 91,
     "metadata": {},
     "output_type": "execute_result"
    }
   ],
   "source": [
    "# Confusion Matrix for the model accuracy\n",
    "confusion_matrix_gb = confusion_matrix(y_test, y_pred_gb)\n",
    "confusion_matrix_gb"
   ]
  },
  {
   "cell_type": "code",
   "execution_count": 92,
   "id": "4f05b045",
   "metadata": {},
   "outputs": [
    {
     "name": "stdout",
     "output_type": "stream",
     "text": [
      "              precision    recall  f1-score   support\n",
      "\n",
      "           0       1.00      1.00      1.00         4\n",
      "           1       1.00      0.86      0.92         7\n",
      "           2       0.67      1.00      0.80         2\n",
      "           3       1.00      1.00      1.00         3\n",
      "\n",
      "    accuracy                           0.94        16\n",
      "   macro avg       0.92      0.96      0.93        16\n",
      "weighted avg       0.96      0.94      0.94        16\n",
      "\n"
     ]
    }
   ],
   "source": [
    "#Classification Report \n",
    "print (classification_report(y_test,y_pred_gb))"
   ]
  },
  {
   "cell_type": "code",
   "execution_count": 93,
   "id": "20d06a7f",
   "metadata": {},
   "outputs": [
    {
     "name": "stdout",
     "output_type": "stream",
     "text": [
      "Accuracy Score  :  0.9375\n",
      "Precision Score :  0.9583\n",
      "Recall Score    :  0.9375\n",
      "f1-Score        :  0.9413\n"
     ]
    }
   ],
   "source": [
    "accuracy_9 = (accuracy_score(y_test,y_pred_gb))\n",
    "precision_9 = round(precision_score(y_test,y_pred_gb,average = 'weighted'),4)\n",
    "recall_9 = (recall_score(y_test,y_pred_gb,average = 'weighted'))\n",
    "f1_9 = round(f1_score(y_test,y_pred_gb,average = 'weighted'),4)\n",
    "print('Accuracy Score  : ', accuracy_9)\n",
    "print('Precision Score : ', precision_9)\n",
    "print('Recall Score    : ', recall_9)\n",
    "print('f1-Score        : ', f1_9)"
   ]
  },
  {
   "cell_type": "markdown",
   "id": "f2381cbb",
   "metadata": {},
   "source": [
    " ## 10) Light Gradient Boosting Classifier(LGBoost)"
   ]
  },
  {
   "cell_type": "code",
   "execution_count": 94,
   "id": "29159e2d",
   "metadata": {},
   "outputs": [],
   "source": [
    "model_lgbm = LGBMClassifier()\n",
    "model_lgbm.fit(x_train,y_train)\n",
    "y_pred_lgbm = model_lgbm.predict(x_test)"
   ]
  },
  {
   "cell_type": "code",
   "execution_count": 95,
   "id": "599b73e8",
   "metadata": {},
   "outputs": [
    {
     "data": {
      "text/plain": [
       "array([[4, 0, 0, 0],\n",
       "       [0, 7, 0, 0],\n",
       "       [0, 0, 2, 0],\n",
       "       [0, 0, 0, 3]], dtype=int64)"
      ]
     },
     "execution_count": 95,
     "metadata": {},
     "output_type": "execute_result"
    }
   ],
   "source": [
    "# Confusion Matrix for the model accuracy\n",
    "confusion_matrix_lgbm = confusion_matrix(y_test, y_pred_lgbm)\n",
    "confusion_matrix_lgbm"
   ]
  },
  {
   "cell_type": "code",
   "execution_count": 96,
   "id": "64b5704f",
   "metadata": {},
   "outputs": [
    {
     "name": "stdout",
     "output_type": "stream",
     "text": [
      "              precision    recall  f1-score   support\n",
      "\n",
      "           0       1.00      1.00      1.00         4\n",
      "           1       1.00      1.00      1.00         7\n",
      "           2       1.00      1.00      1.00         2\n",
      "           3       1.00      1.00      1.00         3\n",
      "\n",
      "    accuracy                           1.00        16\n",
      "   macro avg       1.00      1.00      1.00        16\n",
      "weighted avg       1.00      1.00      1.00        16\n",
      "\n"
     ]
    }
   ],
   "source": [
    "#Classification Report \n",
    "print (classification_report(y_test,y_pred_lgbm))"
   ]
  },
  {
   "cell_type": "code",
   "execution_count": 97,
   "id": "db0e99b1",
   "metadata": {},
   "outputs": [
    {
     "name": "stdout",
     "output_type": "stream",
     "text": [
      "Accuracy Score  :  1.0\n",
      "Precision Score :  1.0\n",
      "Recall Score    :  1.0\n",
      "f1-Score        :  1.0\n"
     ]
    }
   ],
   "source": [
    "accuracy_10 = (accuracy_score(y_test,y_pred_lgbm))\n",
    "precision_10 = round(precision_score(y_test,y_pred_lgbm,average = 'weighted'),4)\n",
    "recall_10 = (recall_score(y_test,y_pred_lgbm,average = 'weighted'))\n",
    "f1_10 = round(f1_score(y_test,y_pred_lgbm,average = 'weighted'),4)\n",
    "print('Accuracy Score  : ', accuracy_10)\n",
    "print('Precision Score : ', precision_10)\n",
    "print('Recall Score    : ', recall_10)\n",
    "print('f1-Score        : ', f1_10)\n"
   ]
  },
  {
   "cell_type": "code",
   "execution_count": 98,
   "id": "8fe0d735",
   "metadata": {},
   "outputs": [
    {
     "data": {
      "text/html": [
       "<div>\n",
       "<style scoped>\n",
       "    .dataframe tbody tr th:only-of-type {\n",
       "        vertical-align: middle;\n",
       "    }\n",
       "\n",
       "    .dataframe tbody tr th {\n",
       "        vertical-align: top;\n",
       "    }\n",
       "\n",
       "    .dataframe thead th {\n",
       "        text-align: right;\n",
       "    }\n",
       "</style>\n",
       "<table border=\"1\" class=\"dataframe\">\n",
       "  <thead>\n",
       "    <tr style=\"text-align: right;\">\n",
       "      <th></th>\n",
       "      <th>Models</th>\n",
       "      <th>Accuracy</th>\n",
       "      <th>Precision Score</th>\n",
       "      <th>Recall Score</th>\n",
       "      <th>F1_Score</th>\n",
       "    </tr>\n",
       "  </thead>\n",
       "  <tbody>\n",
       "    <tr>\n",
       "      <th>0</th>\n",
       "      <td>Logistic Classification</td>\n",
       "      <td>1.0000</td>\n",
       "      <td>1.0000</td>\n",
       "      <td>1.0000</td>\n",
       "      <td>1.0000</td>\n",
       "    </tr>\n",
       "    <tr>\n",
       "      <th>1</th>\n",
       "      <td>Random Forest Regressor</td>\n",
       "      <td>1.0000</td>\n",
       "      <td>1.0000</td>\n",
       "      <td>1.0000</td>\n",
       "      <td>1.0000</td>\n",
       "    </tr>\n",
       "    <tr>\n",
       "      <th>2</th>\n",
       "      <td>Bagging classifier</td>\n",
       "      <td>1.0000</td>\n",
       "      <td>1.0000</td>\n",
       "      <td>1.0000</td>\n",
       "      <td>1.0000</td>\n",
       "    </tr>\n",
       "    <tr>\n",
       "      <th>3</th>\n",
       "      <td>K-Nearest Neighbours(KNN)</td>\n",
       "      <td>1.0000</td>\n",
       "      <td>1.0000</td>\n",
       "      <td>1.0000</td>\n",
       "      <td>1.0000</td>\n",
       "    </tr>\n",
       "    <tr>\n",
       "      <th>4</th>\n",
       "      <td>Support Vector Machines(SVM)</td>\n",
       "      <td>0.9375</td>\n",
       "      <td>0.9453</td>\n",
       "      <td>0.9375</td>\n",
       "      <td>0.9292</td>\n",
       "    </tr>\n",
       "    <tr>\n",
       "      <th>5</th>\n",
       "      <td>AdaBoost Classification</td>\n",
       "      <td>0.7500</td>\n",
       "      <td>0.5909</td>\n",
       "      <td>0.7500</td>\n",
       "      <td>0.6528</td>\n",
       "    </tr>\n",
       "    <tr>\n",
       "      <th>6</th>\n",
       "      <td>Naive Bayes</td>\n",
       "      <td>1.0000</td>\n",
       "      <td>1.0000</td>\n",
       "      <td>1.0000</td>\n",
       "      <td>1.0000</td>\n",
       "    </tr>\n",
       "    <tr>\n",
       "      <th>7</th>\n",
       "      <td>Xtreme Gradient Boosting Classifier(XGBoost)</td>\n",
       "      <td>1.0000</td>\n",
       "      <td>1.0000</td>\n",
       "      <td>1.0000</td>\n",
       "      <td>1.0000</td>\n",
       "    </tr>\n",
       "    <tr>\n",
       "      <th>8</th>\n",
       "      <td>Gradient Boosting Classifier</td>\n",
       "      <td>0.9375</td>\n",
       "      <td>0.9583</td>\n",
       "      <td>0.9375</td>\n",
       "      <td>0.9413</td>\n",
       "    </tr>\n",
       "    <tr>\n",
       "      <th>9</th>\n",
       "      <td>Light Gradient Boosting Classifier(LGBoost)</td>\n",
       "      <td>1.0000</td>\n",
       "      <td>1.0000</td>\n",
       "      <td>1.0000</td>\n",
       "      <td>1.0000</td>\n",
       "    </tr>\n",
       "  </tbody>\n",
       "</table>\n",
       "</div>"
      ],
      "text/plain": [
       "                                         Models  Accuracy  Precision Score  \\\n",
       "0                       Logistic Classification    1.0000           1.0000   \n",
       "1                       Random Forest Regressor    1.0000           1.0000   \n",
       "2                            Bagging classifier    1.0000           1.0000   \n",
       "3                     K-Nearest Neighbours(KNN)    1.0000           1.0000   \n",
       "4                  Support Vector Machines(SVM)    0.9375           0.9453   \n",
       "5                       AdaBoost Classification    0.7500           0.5909   \n",
       "6                                   Naive Bayes    1.0000           1.0000   \n",
       "7  Xtreme Gradient Boosting Classifier(XGBoost)    1.0000           1.0000   \n",
       "8                  Gradient Boosting Classifier    0.9375           0.9583   \n",
       "9   Light Gradient Boosting Classifier(LGBoost)    1.0000           1.0000   \n",
       "\n",
       "   Recall Score  F1_Score  \n",
       "0        1.0000    1.0000  \n",
       "1        1.0000    1.0000  \n",
       "2        1.0000    1.0000  \n",
       "3        1.0000    1.0000  \n",
       "4        0.9375    0.9292  \n",
       "5        0.7500    0.6528  \n",
       "6        1.0000    1.0000  \n",
       "7        1.0000    1.0000  \n",
       "8        0.9375    0.9413  \n",
       "9        1.0000    1.0000  "
      ]
     },
     "execution_count": 98,
     "metadata": {},
     "output_type": "execute_result"
    }
   ],
   "source": [
    "df_models = {'Models' : ['Logistic Classification','Random Forest Regressor','Bagging classifier','K-Nearest Neighbours(KNN)','Support Vector Machines(SVM)',\n",
    "                         'AdaBoost Classification','Naive Bayes','Xtreme Gradient Boosting Classifier(XGBoost)','Gradient Boosting Classifier',\n",
    "                         'Light Gradient Boosting Classifier(LGBoost)'], \n",
    "         'Accuracy' : [accuracy_1, accuracy_2, accuracy_3, accuracy_4, accuracy_5, accuracy_6, accuracy_7, accuracy_8, accuracy_9 ,accuracy_10],\n",
    "         'Precision Score' : [precision_1, precision_2, precision_3, precision_4, precision_5, precision_6, precision_7, precision_8, precision_9,precision_10],\n",
    "         'Recall Score' : [recall_1, recall_2, recall_3, recall_4, recall_5, recall_6, recall_7, recall_8, recall_9,recall_10],\n",
    "         'F1_Score' : [f1_1, f1_2, f1_3, f1_4, f1_5, f1_6, f1_7, f1_8, f1_9,f1_10]}\n",
    "df_models = pd.DataFrame(df_models)\n",
    "df_models"
   ]
  },
  {
   "cell_type": "markdown",
   "id": "400664a6",
   "metadata": {},
   "source": [
    "## Saving Model"
   ]
  },
  {
   "cell_type": "code",
   "execution_count": 105,
   "id": "78d95bfa",
   "metadata": {},
   "outputs": [],
   "source": [
    "filename = 'final_svm_model.pkl'\n",
    "pickle.dump(model_linear, open(filename,'wb'))"
   ]
  },
  {
   "cell_type": "code",
   "execution_count": 106,
   "id": "d473bd50",
   "metadata": {},
   "outputs": [],
   "source": [
    "pickled_model=pickle.load(open('final_svm_model.pkl','rb'))"
   ]
  },
  {
   "cell_type": "code",
   "execution_count": 100,
   "id": "a93d5a54",
   "metadata": {},
   "outputs": [],
   "source": [
    "pickle.dump(doc_vec,open('tfidf.pkl','wb'))"
   ]
  },
  {
   "cell_type": "code",
   "execution_count": 103,
   "id": "a4d68124",
   "metadata": {},
   "outputs": [],
   "source": [
    "tfidf=pickle.load(open('tfidf.pkl','rb'))"
   ]
  },
  {
   "cell_type": "code",
   "execution_count": null,
   "id": "bcccf10c",
   "metadata": {},
   "outputs": [],
   "source": []
  }
 ],
 "metadata": {
  "kernelspec": {
   "display_name": "Python 3 (ipykernel)",
   "language": "python",
   "name": "python3"
  },
  "language_info": {
   "codemirror_mode": {
    "name": "ipython",
    "version": 3
   },
   "file_extension": ".py",
   "mimetype": "text/x-python",
   "name": "python",
   "nbconvert_exporter": "python",
   "pygments_lexer": "ipython3",
   "version": "3.9.12"
  }
 },
 "nbformat": 4,
 "nbformat_minor": 5
}
